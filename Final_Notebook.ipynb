{
 "cells": [
  {
   "cell_type": "code",
   "execution_count": 1,
   "id": "29ff68ce-595d-4dbd-ad50-2d1910ccb2a3",
   "metadata": {
    "tags": []
   },
   "outputs": [],
   "source": [
    "import pandas as pd\n",
    "import numpy as np\n",
    "from wine_acquire import wrangle_wine, split_data\n",
    "from sklearn.model_selection import train_test_split\n",
    "from sklearn.preprocessing import StandardScaler, RobustScaler\n",
    "import matplotlib.pyplot as plt\n",
    "import seaborn as sns\n",
    "from sklearn.cluster import KMeans\n",
    "import warnings\n",
    "warnings.filterwarnings(\"ignore\")\n",
    "import scipy.stats as stats\n",
    "from sklearn.tree import DecisionTreeClassifier\n",
    "from sklearn.ensemble import RandomForestClassifier\n",
    "from sklearn.neighbors import KNeighborsClassifier\n",
    "from sklearn.linear_model import LogisticRegression"
   ]
  },
  {
   "cell_type": "markdown",
   "id": "8445b100",
   "metadata": {},
   "source": [
    "# Aquire"
   ]
  },
  {
   "cell_type": "code",
   "execution_count": 2,
   "id": "cbd71652-ee82-42c1-b570-f37be2c09658",
   "metadata": {
    "tags": []
   },
   "outputs": [],
   "source": [
    "wine = wrangle_wine()"
   ]
  },
  {
   "cell_type": "code",
   "execution_count": 3,
   "id": "b197cf56-88f9-4b5c-85e6-a89d1f228046",
   "metadata": {
    "tags": []
   },
   "outputs": [
    {
     "data": {
      "text/html": [
       "<div>\n",
       "<style scoped>\n",
       "    .dataframe tbody tr th:only-of-type {\n",
       "        vertical-align: middle;\n",
       "    }\n",
       "\n",
       "    .dataframe tbody tr th {\n",
       "        vertical-align: top;\n",
       "    }\n",
       "\n",
       "    .dataframe thead th {\n",
       "        text-align: right;\n",
       "    }\n",
       "</style>\n",
       "<table border=\"1\" class=\"dataframe\">\n",
       "  <thead>\n",
       "    <tr style=\"text-align: right;\">\n",
       "      <th></th>\n",
       "      <th>fixed_acidity</th>\n",
       "      <th>volatile_acidity</th>\n",
       "      <th>citric_acid</th>\n",
       "      <th>residual_sugar</th>\n",
       "      <th>chlorides</th>\n",
       "      <th>free_sulfur_dioxide</th>\n",
       "      <th>total_sulfur_dioxide</th>\n",
       "      <th>density</th>\n",
       "      <th>pH</th>\n",
       "      <th>sulphates</th>\n",
       "      <th>alcohol</th>\n",
       "      <th>quality</th>\n",
       "      <th>wine_color</th>\n",
       "    </tr>\n",
       "  </thead>\n",
       "  <tbody>\n",
       "    <tr>\n",
       "      <th>0</th>\n",
       "      <td>7.0</td>\n",
       "      <td>0.270</td>\n",
       "      <td>0.36</td>\n",
       "      <td>20.7</td>\n",
       "      <td>0.045</td>\n",
       "      <td>45.0</td>\n",
       "      <td>170.0</td>\n",
       "      <td>1.00100</td>\n",
       "      <td>3.00</td>\n",
       "      <td>0.45</td>\n",
       "      <td>8.8</td>\n",
       "      <td>6</td>\n",
       "      <td>0</td>\n",
       "    </tr>\n",
       "    <tr>\n",
       "      <th>1</th>\n",
       "      <td>6.3</td>\n",
       "      <td>0.300</td>\n",
       "      <td>0.34</td>\n",
       "      <td>1.6</td>\n",
       "      <td>0.049</td>\n",
       "      <td>14.0</td>\n",
       "      <td>132.0</td>\n",
       "      <td>0.99400</td>\n",
       "      <td>3.30</td>\n",
       "      <td>0.49</td>\n",
       "      <td>9.5</td>\n",
       "      <td>6</td>\n",
       "      <td>0</td>\n",
       "    </tr>\n",
       "    <tr>\n",
       "      <th>2</th>\n",
       "      <td>8.1</td>\n",
       "      <td>0.280</td>\n",
       "      <td>0.40</td>\n",
       "      <td>6.9</td>\n",
       "      <td>0.050</td>\n",
       "      <td>30.0</td>\n",
       "      <td>97.0</td>\n",
       "      <td>0.99510</td>\n",
       "      <td>3.26</td>\n",
       "      <td>0.44</td>\n",
       "      <td>10.1</td>\n",
       "      <td>6</td>\n",
       "      <td>0</td>\n",
       "    </tr>\n",
       "    <tr>\n",
       "      <th>3</th>\n",
       "      <td>7.2</td>\n",
       "      <td>0.230</td>\n",
       "      <td>0.32</td>\n",
       "      <td>8.5</td>\n",
       "      <td>0.058</td>\n",
       "      <td>47.0</td>\n",
       "      <td>186.0</td>\n",
       "      <td>0.99560</td>\n",
       "      <td>3.19</td>\n",
       "      <td>0.40</td>\n",
       "      <td>9.9</td>\n",
       "      <td>6</td>\n",
       "      <td>0</td>\n",
       "    </tr>\n",
       "    <tr>\n",
       "      <th>4</th>\n",
       "      <td>7.2</td>\n",
       "      <td>0.230</td>\n",
       "      <td>0.32</td>\n",
       "      <td>8.5</td>\n",
       "      <td>0.058</td>\n",
       "      <td>47.0</td>\n",
       "      <td>186.0</td>\n",
       "      <td>0.99560</td>\n",
       "      <td>3.19</td>\n",
       "      <td>0.40</td>\n",
       "      <td>9.9</td>\n",
       "      <td>6</td>\n",
       "      <td>0</td>\n",
       "    </tr>\n",
       "    <tr>\n",
       "      <th>...</th>\n",
       "      <td>...</td>\n",
       "      <td>...</td>\n",
       "      <td>...</td>\n",
       "      <td>...</td>\n",
       "      <td>...</td>\n",
       "      <td>...</td>\n",
       "      <td>...</td>\n",
       "      <td>...</td>\n",
       "      <td>...</td>\n",
       "      <td>...</td>\n",
       "      <td>...</td>\n",
       "      <td>...</td>\n",
       "      <td>...</td>\n",
       "    </tr>\n",
       "    <tr>\n",
       "      <th>1594</th>\n",
       "      <td>6.2</td>\n",
       "      <td>0.600</td>\n",
       "      <td>0.08</td>\n",
       "      <td>2.0</td>\n",
       "      <td>0.090</td>\n",
       "      <td>32.0</td>\n",
       "      <td>44.0</td>\n",
       "      <td>0.99490</td>\n",
       "      <td>3.45</td>\n",
       "      <td>0.58</td>\n",
       "      <td>10.5</td>\n",
       "      <td>5</td>\n",
       "      <td>1</td>\n",
       "    </tr>\n",
       "    <tr>\n",
       "      <th>1595</th>\n",
       "      <td>5.9</td>\n",
       "      <td>0.550</td>\n",
       "      <td>0.10</td>\n",
       "      <td>2.2</td>\n",
       "      <td>0.062</td>\n",
       "      <td>39.0</td>\n",
       "      <td>51.0</td>\n",
       "      <td>0.99512</td>\n",
       "      <td>3.52</td>\n",
       "      <td>0.76</td>\n",
       "      <td>11.2</td>\n",
       "      <td>6</td>\n",
       "      <td>1</td>\n",
       "    </tr>\n",
       "    <tr>\n",
       "      <th>1596</th>\n",
       "      <td>6.3</td>\n",
       "      <td>0.510</td>\n",
       "      <td>0.13</td>\n",
       "      <td>2.3</td>\n",
       "      <td>0.076</td>\n",
       "      <td>29.0</td>\n",
       "      <td>40.0</td>\n",
       "      <td>0.99574</td>\n",
       "      <td>3.42</td>\n",
       "      <td>0.75</td>\n",
       "      <td>11.0</td>\n",
       "      <td>6</td>\n",
       "      <td>1</td>\n",
       "    </tr>\n",
       "    <tr>\n",
       "      <th>1597</th>\n",
       "      <td>5.9</td>\n",
       "      <td>0.645</td>\n",
       "      <td>0.12</td>\n",
       "      <td>2.0</td>\n",
       "      <td>0.075</td>\n",
       "      <td>32.0</td>\n",
       "      <td>44.0</td>\n",
       "      <td>0.99547</td>\n",
       "      <td>3.57</td>\n",
       "      <td>0.71</td>\n",
       "      <td>10.2</td>\n",
       "      <td>5</td>\n",
       "      <td>1</td>\n",
       "    </tr>\n",
       "    <tr>\n",
       "      <th>1598</th>\n",
       "      <td>6.0</td>\n",
       "      <td>0.310</td>\n",
       "      <td>0.47</td>\n",
       "      <td>3.6</td>\n",
       "      <td>0.067</td>\n",
       "      <td>18.0</td>\n",
       "      <td>42.0</td>\n",
       "      <td>0.99549</td>\n",
       "      <td>3.39</td>\n",
       "      <td>0.66</td>\n",
       "      <td>11.0</td>\n",
       "      <td>6</td>\n",
       "      <td>1</td>\n",
       "    </tr>\n",
       "  </tbody>\n",
       "</table>\n",
       "<p>6495 rows × 13 columns</p>\n",
       "</div>"
      ],
      "text/plain": [
       "      fixed_acidity  volatile_acidity  citric_acid  residual_sugar  chlorides  \\\n",
       "0               7.0             0.270         0.36            20.7      0.045   \n",
       "1               6.3             0.300         0.34             1.6      0.049   \n",
       "2               8.1             0.280         0.40             6.9      0.050   \n",
       "3               7.2             0.230         0.32             8.5      0.058   \n",
       "4               7.2             0.230         0.32             8.5      0.058   \n",
       "...             ...               ...          ...             ...        ...   \n",
       "1594            6.2             0.600         0.08             2.0      0.090   \n",
       "1595            5.9             0.550         0.10             2.2      0.062   \n",
       "1596            6.3             0.510         0.13             2.3      0.076   \n",
       "1597            5.9             0.645         0.12             2.0      0.075   \n",
       "1598            6.0             0.310         0.47             3.6      0.067   \n",
       "\n",
       "      free_sulfur_dioxide  total_sulfur_dioxide  density    pH  sulphates  \\\n",
       "0                    45.0                 170.0  1.00100  3.00       0.45   \n",
       "1                    14.0                 132.0  0.99400  3.30       0.49   \n",
       "2                    30.0                  97.0  0.99510  3.26       0.44   \n",
       "3                    47.0                 186.0  0.99560  3.19       0.40   \n",
       "4                    47.0                 186.0  0.99560  3.19       0.40   \n",
       "...                   ...                   ...      ...   ...        ...   \n",
       "1594                 32.0                  44.0  0.99490  3.45       0.58   \n",
       "1595                 39.0                  51.0  0.99512  3.52       0.76   \n",
       "1596                 29.0                  40.0  0.99574  3.42       0.75   \n",
       "1597                 32.0                  44.0  0.99547  3.57       0.71   \n",
       "1598                 18.0                  42.0  0.99549  3.39       0.66   \n",
       "\n",
       "      alcohol  quality  wine_color  \n",
       "0         8.8        6           0  \n",
       "1         9.5        6           0  \n",
       "2        10.1        6           0  \n",
       "3         9.9        6           0  \n",
       "4         9.9        6           0  \n",
       "...       ...      ...         ...  \n",
       "1594     10.5        5           1  \n",
       "1595     11.2        6           1  \n",
       "1596     11.0        6           1  \n",
       "1597     10.2        5           1  \n",
       "1598     11.0        6           1  \n",
       "\n",
       "[6495 rows x 13 columns]"
      ]
     },
     "execution_count": 3,
     "metadata": {},
     "output_type": "execute_result"
    }
   ],
   "source": [
    "wine"
   ]
  },
  {
   "cell_type": "markdown",
   "id": "a343fbbe",
   "metadata": {},
   "source": [
    "# Prepare"
   ]
  },
  {
   "cell_type": "code",
   "execution_count": 4,
   "id": "515ecab3-9441-46c3-8c42-2cbed8699791",
   "metadata": {
    "tags": []
   },
   "outputs": [],
   "source": [
    "quality_bin = []\n",
    "for row in wine.quality:\n",
    "    if row <= 5:\n",
    "        quality_bin.append('low')\n",
    "    elif row == 6:\n",
    "        quality_bin.append('mid')\n",
    "    else:\n",
    "        quality_bin.append('high')\n",
    "wine['quality_bin'] = quality_bin"
   ]
  },
  {
   "cell_type": "code",
   "execution_count": 136,
   "id": "956cd757",
   "metadata": {},
   "outputs": [
    {
     "data": {
      "text/plain": [
       "quality_bin\n",
       "mid     2835\n",
       "low     2383\n",
       "high    1277\n",
       "Name: count, dtype: int64"
      ]
     },
     "execution_count": 136,
     "metadata": {},
     "output_type": "execute_result"
    }
   ],
   "source": [
    "wine.quality_bin.value_counts()"
   ]
  },
  {
   "cell_type": "markdown",
   "id": "54a2d1b2",
   "metadata": {},
   "source": [
    "# Train Validate Test"
   ]
  },
  {
   "cell_type": "code",
   "execution_count": 5,
   "id": "3ede5580-b461-4719-b7a2-c1d1b0a670cf",
   "metadata": {
    "tags": []
   },
   "outputs": [],
   "source": [
    "train, validate, test = split_data(wine)"
   ]
  },
  {
   "cell_type": "code",
   "execution_count": 6,
   "id": "cd319a74-97c0-46c3-a377-b8efacac2d2d",
   "metadata": {
    "tags": []
   },
   "outputs": [
    {
     "data": {
      "text/html": [
       "<div>\n",
       "<style scoped>\n",
       "    .dataframe tbody tr th:only-of-type {\n",
       "        vertical-align: middle;\n",
       "    }\n",
       "\n",
       "    .dataframe tbody tr th {\n",
       "        vertical-align: top;\n",
       "    }\n",
       "\n",
       "    .dataframe thead th {\n",
       "        text-align: right;\n",
       "    }\n",
       "</style>\n",
       "<table border=\"1\" class=\"dataframe\">\n",
       "  <thead>\n",
       "    <tr style=\"text-align: right;\">\n",
       "      <th></th>\n",
       "      <th>fixed_acidity</th>\n",
       "      <th>volatile_acidity</th>\n",
       "      <th>citric_acid</th>\n",
       "      <th>residual_sugar</th>\n",
       "      <th>chlorides</th>\n",
       "      <th>free_sulfur_dioxide</th>\n",
       "      <th>total_sulfur_dioxide</th>\n",
       "      <th>density</th>\n",
       "      <th>pH</th>\n",
       "      <th>sulphates</th>\n",
       "      <th>alcohol</th>\n",
       "      <th>quality</th>\n",
       "      <th>wine_color</th>\n",
       "      <th>quality_bin</th>\n",
       "    </tr>\n",
       "  </thead>\n",
       "  <tbody>\n",
       "    <tr>\n",
       "      <th>2671</th>\n",
       "      <td>5.9</td>\n",
       "      <td>0.30</td>\n",
       "      <td>0.30</td>\n",
       "      <td>2.0</td>\n",
       "      <td>0.030</td>\n",
       "      <td>38.0</td>\n",
       "      <td>142.0</td>\n",
       "      <td>0.98892</td>\n",
       "      <td>3.41</td>\n",
       "      <td>0.41</td>\n",
       "      <td>12.9</td>\n",
       "      <td>7</td>\n",
       "      <td>0</td>\n",
       "      <td>high</td>\n",
       "    </tr>\n",
       "    <tr>\n",
       "      <th>4444</th>\n",
       "      <td>5.0</td>\n",
       "      <td>0.35</td>\n",
       "      <td>0.25</td>\n",
       "      <td>7.8</td>\n",
       "      <td>0.031</td>\n",
       "      <td>24.0</td>\n",
       "      <td>116.0</td>\n",
       "      <td>0.99241</td>\n",
       "      <td>3.39</td>\n",
       "      <td>0.40</td>\n",
       "      <td>11.3</td>\n",
       "      <td>6</td>\n",
       "      <td>0</td>\n",
       "      <td>mid</td>\n",
       "    </tr>\n",
       "    <tr>\n",
       "      <th>3604</th>\n",
       "      <td>7.4</td>\n",
       "      <td>0.36</td>\n",
       "      <td>0.23</td>\n",
       "      <td>1.9</td>\n",
       "      <td>0.017</td>\n",
       "      <td>31.0</td>\n",
       "      <td>69.0</td>\n",
       "      <td>0.98920</td>\n",
       "      <td>2.93</td>\n",
       "      <td>0.36</td>\n",
       "      <td>12.5</td>\n",
       "      <td>6</td>\n",
       "      <td>0</td>\n",
       "      <td>mid</td>\n",
       "    </tr>\n",
       "    <tr>\n",
       "      <th>2623</th>\n",
       "      <td>6.5</td>\n",
       "      <td>0.18</td>\n",
       "      <td>0.41</td>\n",
       "      <td>14.2</td>\n",
       "      <td>0.039</td>\n",
       "      <td>47.0</td>\n",
       "      <td>129.0</td>\n",
       "      <td>0.99678</td>\n",
       "      <td>3.28</td>\n",
       "      <td>0.72</td>\n",
       "      <td>10.3</td>\n",
       "      <td>7</td>\n",
       "      <td>0</td>\n",
       "      <td>high</td>\n",
       "    </tr>\n",
       "    <tr>\n",
       "      <th>1549</th>\n",
       "      <td>8.5</td>\n",
       "      <td>0.15</td>\n",
       "      <td>0.49</td>\n",
       "      <td>1.5</td>\n",
       "      <td>0.031</td>\n",
       "      <td>17.0</td>\n",
       "      <td>122.0</td>\n",
       "      <td>0.99320</td>\n",
       "      <td>3.03</td>\n",
       "      <td>0.40</td>\n",
       "      <td>10.3</td>\n",
       "      <td>6</td>\n",
       "      <td>0</td>\n",
       "      <td>mid</td>\n",
       "    </tr>\n",
       "  </tbody>\n",
       "</table>\n",
       "</div>"
      ],
      "text/plain": [
       "      fixed_acidity  volatile_acidity  citric_acid  residual_sugar  chlorides  \\\n",
       "2671            5.9              0.30         0.30             2.0      0.030   \n",
       "4444            5.0              0.35         0.25             7.8      0.031   \n",
       "3604            7.4              0.36         0.23             1.9      0.017   \n",
       "2623            6.5              0.18         0.41            14.2      0.039   \n",
       "1549            8.5              0.15         0.49             1.5      0.031   \n",
       "\n",
       "      free_sulfur_dioxide  total_sulfur_dioxide  density    pH  sulphates  \\\n",
       "2671                 38.0                 142.0  0.98892  3.41       0.41   \n",
       "4444                 24.0                 116.0  0.99241  3.39       0.40   \n",
       "3604                 31.0                  69.0  0.98920  2.93       0.36   \n",
       "2623                 47.0                 129.0  0.99678  3.28       0.72   \n",
       "1549                 17.0                 122.0  0.99320  3.03       0.40   \n",
       "\n",
       "      alcohol  quality  wine_color quality_bin  \n",
       "2671     12.9        7           0        high  \n",
       "4444     11.3        6           0         mid  \n",
       "3604     12.5        6           0         mid  \n",
       "2623     10.3        7           0        high  \n",
       "1549     10.3        6           0         mid  "
      ]
     },
     "execution_count": 6,
     "metadata": {},
     "output_type": "execute_result"
    }
   ],
   "source": [
    "train.head()"
   ]
  },
  {
   "cell_type": "code",
   "execution_count": 7,
   "id": "95301dfa-71b9-444a-bc31-6c1998546e01",
   "metadata": {
    "tags": []
   },
   "outputs": [
    {
     "data": {
      "text/plain": [
       "Index(['fixed_acidity', 'volatile_acidity', 'citric_acid', 'residual_sugar',\n",
       "       'chlorides', 'free_sulfur_dioxide', 'total_sulfur_dioxide', 'density',\n",
       "       'pH', 'sulphates', 'alcohol', 'quality', 'wine_color', 'quality_bin'],\n",
       "      dtype='object')"
      ]
     },
     "execution_count": 7,
     "metadata": {},
     "output_type": "execute_result"
    }
   ],
   "source": [
    "train.columns"
   ]
  },
  {
   "cell_type": "markdown",
   "id": "02685c81",
   "metadata": {},
   "source": [
    "# X/ Y train"
   ]
  },
  {
   "cell_type": "code",
   "execution_count": 8,
   "id": "fa46142e-a9d3-483c-8d70-23d39b12a12b",
   "metadata": {},
   "outputs": [],
   "source": [
    "x_train = train.drop(columns=['quality', 'quality_bin'])\n",
    "y_train = train.drop(columns = ['fixed_acidity', 'volatile_acidity', 'citric_acid', 'residual_sugar',\n",
    "       'chlorides', 'free_sulfur_dioxide', 'total_sulfur_dioxide', 'density',\n",
    "       'pH', 'sulphates', 'alcohol', 'wine_color'])"
   ]
  },
  {
   "cell_type": "markdown",
   "id": "548fbd4d",
   "metadata": {},
   "source": [
    "# Scaler"
   ]
  },
  {
   "cell_type": "code",
   "execution_count": 9,
   "id": "d5735e20-bdd3-4bb4-b61d-80564cefa337",
   "metadata": {
    "tags": []
   },
   "outputs": [],
   "source": [
    "scaler = StandardScaler()\n",
    "scaler.fit(x_train)\n",
    "x_train = scaler.transform(x_train)"
   ]
  },
  {
   "cell_type": "code",
   "execution_count": 10,
   "id": "69a33025-1415-4d6c-bf2c-bc2d2129d219",
   "metadata": {
    "tags": []
   },
   "outputs": [
    {
     "data": {
      "text/plain": [
       "Index(['fixed_acidity', 'volatile_acidity', 'citric_acid', 'residual_sugar',\n",
       "       'chlorides', 'free_sulfur_dioxide', 'total_sulfur_dioxide', 'density',\n",
       "       'pH', 'sulphates', 'alcohol', 'quality', 'wine_color', 'quality_bin'],\n",
       "      dtype='object')"
      ]
     },
     "execution_count": 10,
     "metadata": {},
     "output_type": "execute_result"
    }
   ],
   "source": [
    "train.columns"
   ]
  },
  {
   "cell_type": "code",
   "execution_count": 11,
   "id": "e3a5b551-f990-4667-83aa-8303ff82d294",
   "metadata": {
    "tags": []
   },
   "outputs": [],
   "source": [
    "x_train = pd.DataFrame(x_train, columns = ['fixed_acidity', 'volatile_acidity', 'citric_acid', 'residual_sugar',\n",
    "       'chlorides', 'free_sulfur_dioxide', 'total_sulfur_dioxide', 'density',\n",
    "       'pH', 'sulphates', 'alcohol', 'wine_color']).reset_index()"
   ]
  },
  {
   "cell_type": "code",
   "execution_count": 12,
   "id": "bc81dbab-43d2-49f9-974e-bad8695a89fd",
   "metadata": {
    "tags": []
   },
   "outputs": [],
   "source": [
    "y_train = pd.DataFrame(y_train).reset_index()"
   ]
  },
  {
   "cell_type": "code",
   "execution_count": 13,
   "id": "25149d3f-8d20-43fe-a124-edb515ace7d6",
   "metadata": {
    "tags": []
   },
   "outputs": [],
   "source": [
    "train_scaled = pd.concat([x_train, y_train], axis=1)"
   ]
  },
  {
   "cell_type": "code",
   "execution_count": 14,
   "id": "2244f4a8-e4d5-410c-8c38-7ea7a4712f6f",
   "metadata": {
    "tags": []
   },
   "outputs": [],
   "source": [
    "train_scaled = train_scaled.drop(columns='index')"
   ]
  },
  {
   "cell_type": "code",
   "execution_count": 15,
   "id": "4f1fcfde-0cf1-48f0-b3a3-528990395ab4",
   "metadata": {
    "tags": []
   },
   "outputs": [],
   "source": [
    "train_scaled['quality_bin'] = train_scaled['quality_bin'].map({'low':0, 'mid':1, 'high':2})"
   ]
  },
  {
   "cell_type": "code",
   "execution_count": 16,
   "id": "2ab8e0da-252f-4a44-91f1-23ff2ba18f05",
   "metadata": {
    "tags": []
   },
   "outputs": [
    {
     "data": {
      "text/html": [
       "<div>\n",
       "<style scoped>\n",
       "    .dataframe tbody tr th:only-of-type {\n",
       "        vertical-align: middle;\n",
       "    }\n",
       "\n",
       "    .dataframe tbody tr th {\n",
       "        vertical-align: top;\n",
       "    }\n",
       "\n",
       "    .dataframe thead th {\n",
       "        text-align: right;\n",
       "    }\n",
       "</style>\n",
       "<table border=\"1\" class=\"dataframe\">\n",
       "  <thead>\n",
       "    <tr style=\"text-align: right;\">\n",
       "      <th></th>\n",
       "      <th>fixed_acidity</th>\n",
       "      <th>volatile_acidity</th>\n",
       "      <th>citric_acid</th>\n",
       "      <th>residual_sugar</th>\n",
       "      <th>chlorides</th>\n",
       "      <th>free_sulfur_dioxide</th>\n",
       "      <th>total_sulfur_dioxide</th>\n",
       "      <th>density</th>\n",
       "      <th>pH</th>\n",
       "      <th>sulphates</th>\n",
       "      <th>alcohol</th>\n",
       "      <th>wine_color</th>\n",
       "      <th>quality</th>\n",
       "      <th>quality_bin</th>\n",
       "    </tr>\n",
       "  </thead>\n",
       "  <tbody>\n",
       "    <tr>\n",
       "      <th>fixed_acidity</th>\n",
       "      <td>1.000000</td>\n",
       "      <td>0.211634</td>\n",
       "      <td>0.330649</td>\n",
       "      <td>-0.128035</td>\n",
       "      <td>0.293998</td>\n",
       "      <td>-0.271824</td>\n",
       "      <td>-0.314398</td>\n",
       "      <td>0.446214</td>\n",
       "      <td>-0.252640</td>\n",
       "      <td>0.310737</td>\n",
       "      <td>-0.084436</td>\n",
       "      <td>0.478392</td>\n",
       "      <td>-0.069711</td>\n",
       "      <td>-0.067072</td>\n",
       "    </tr>\n",
       "    <tr>\n",
       "      <th>volatile_acidity</th>\n",
       "      <td>0.211634</td>\n",
       "      <td>1.000000</td>\n",
       "      <td>-0.390583</td>\n",
       "      <td>-0.213330</td>\n",
       "      <td>0.384112</td>\n",
       "      <td>-0.352783</td>\n",
       "      <td>-0.425713</td>\n",
       "      <td>0.256741</td>\n",
       "      <td>0.283168</td>\n",
       "      <td>0.234166</td>\n",
       "      <td>-0.026714</td>\n",
       "      <td>0.661024</td>\n",
       "      <td>-0.246330</td>\n",
       "      <td>-0.246090</td>\n",
       "    </tr>\n",
       "    <tr>\n",
       "      <th>citric_acid</th>\n",
       "      <td>0.330649</td>\n",
       "      <td>-0.390583</td>\n",
       "      <td>1.000000</td>\n",
       "      <td>0.146128</td>\n",
       "      <td>0.035559</td>\n",
       "      <td>0.135849</td>\n",
       "      <td>0.205406</td>\n",
       "      <td>0.105441</td>\n",
       "      <td>-0.333025</td>\n",
       "      <td>0.049098</td>\n",
       "      <td>-0.027398</td>\n",
       "      <td>-0.198476</td>\n",
       "      <td>0.055514</td>\n",
       "      <td>0.052215</td>\n",
       "    </tr>\n",
       "    <tr>\n",
       "      <th>residual_sugar</th>\n",
       "      <td>-0.128035</td>\n",
       "      <td>-0.213330</td>\n",
       "      <td>0.146128</td>\n",
       "      <td>1.000000</td>\n",
       "      <td>-0.142692</td>\n",
       "      <td>0.420374</td>\n",
       "      <td>0.504384</td>\n",
       "      <td>0.544305</td>\n",
       "      <td>-0.261960</td>\n",
       "      <td>-0.198502</td>\n",
       "      <td>-0.377224</td>\n",
       "      <td>-0.357203</td>\n",
       "      <td>-0.043652</td>\n",
       "      <td>-0.063735</td>\n",
       "    </tr>\n",
       "    <tr>\n",
       "      <th>chlorides</th>\n",
       "      <td>0.293998</td>\n",
       "      <td>0.384112</td>\n",
       "      <td>0.035559</td>\n",
       "      <td>-0.142692</td>\n",
       "      <td>1.000000</td>\n",
       "      <td>-0.199992</td>\n",
       "      <td>-0.293359</td>\n",
       "      <td>0.371656</td>\n",
       "      <td>0.067690</td>\n",
       "      <td>0.384857</td>\n",
       "      <td>-0.254699</td>\n",
       "      <td>0.531045</td>\n",
       "      <td>-0.201719</td>\n",
       "      <td>-0.204673</td>\n",
       "    </tr>\n",
       "    <tr>\n",
       "      <th>free_sulfur_dioxide</th>\n",
       "      <td>-0.271824</td>\n",
       "      <td>-0.352783</td>\n",
       "      <td>0.135849</td>\n",
       "      <td>0.420374</td>\n",
       "      <td>-0.199992</td>\n",
       "      <td>1.000000</td>\n",
       "      <td>0.711356</td>\n",
       "      <td>0.048482</td>\n",
       "      <td>-0.149740</td>\n",
       "      <td>-0.179912</td>\n",
       "      <td>-0.193783</td>\n",
       "      <td>-0.463981</td>\n",
       "      <td>0.047835</td>\n",
       "      <td>0.023467</td>\n",
       "    </tr>\n",
       "    <tr>\n",
       "      <th>total_sulfur_dioxide</th>\n",
       "      <td>-0.314398</td>\n",
       "      <td>-0.425713</td>\n",
       "      <td>0.205406</td>\n",
       "      <td>0.504384</td>\n",
       "      <td>-0.293359</td>\n",
       "      <td>0.711356</td>\n",
       "      <td>1.000000</td>\n",
       "      <td>0.049551</td>\n",
       "      <td>-0.237304</td>\n",
       "      <td>-0.264605</td>\n",
       "      <td>-0.279152</td>\n",
       "      <td>-0.699040</td>\n",
       "      <td>-0.055353</td>\n",
       "      <td>-0.069985</td>\n",
       "    </tr>\n",
       "    <tr>\n",
       "      <th>density</th>\n",
       "      <td>0.446214</td>\n",
       "      <td>0.256741</td>\n",
       "      <td>0.105441</td>\n",
       "      <td>0.544305</td>\n",
       "      <td>0.371656</td>\n",
       "      <td>0.048482</td>\n",
       "      <td>0.049551</td>\n",
       "      <td>1.000000</td>\n",
       "      <td>0.023757</td>\n",
       "      <td>0.257178</td>\n",
       "      <td>-0.704385</td>\n",
       "      <td>0.392863</td>\n",
       "      <td>-0.307800</td>\n",
       "      <td>-0.330298</td>\n",
       "    </tr>\n",
       "    <tr>\n",
       "      <th>pH</th>\n",
       "      <td>-0.252640</td>\n",
       "      <td>0.283168</td>\n",
       "      <td>-0.333025</td>\n",
       "      <td>-0.261960</td>\n",
       "      <td>0.067690</td>\n",
       "      <td>-0.149740</td>\n",
       "      <td>-0.237304</td>\n",
       "      <td>0.023757</td>\n",
       "      <td>1.000000</td>\n",
       "      <td>0.196842</td>\n",
       "      <td>0.118445</td>\n",
       "      <td>0.345808</td>\n",
       "      <td>0.016567</td>\n",
       "      <td>0.021535</td>\n",
       "    </tr>\n",
       "    <tr>\n",
       "      <th>sulphates</th>\n",
       "      <td>0.310737</td>\n",
       "      <td>0.234166</td>\n",
       "      <td>0.049098</td>\n",
       "      <td>-0.198502</td>\n",
       "      <td>0.384857</td>\n",
       "      <td>-0.179912</td>\n",
       "      <td>-0.264605</td>\n",
       "      <td>0.257178</td>\n",
       "      <td>0.196842</td>\n",
       "      <td>1.000000</td>\n",
       "      <td>0.015332</td>\n",
       "      <td>0.493421</td>\n",
       "      <td>0.033206</td>\n",
       "      <td>0.035477</td>\n",
       "    </tr>\n",
       "    <tr>\n",
       "      <th>alcohol</th>\n",
       "      <td>-0.084436</td>\n",
       "      <td>-0.026714</td>\n",
       "      <td>-0.027398</td>\n",
       "      <td>-0.377224</td>\n",
       "      <td>-0.254699</td>\n",
       "      <td>-0.193783</td>\n",
       "      <td>-0.279152</td>\n",
       "      <td>-0.704385</td>\n",
       "      <td>0.118445</td>\n",
       "      <td>0.015332</td>\n",
       "      <td>1.000000</td>\n",
       "      <td>-0.029291</td>\n",
       "      <td>0.439978</td>\n",
       "      <td>0.464583</td>\n",
       "    </tr>\n",
       "    <tr>\n",
       "      <th>wine_color</th>\n",
       "      <td>0.478392</td>\n",
       "      <td>0.661024</td>\n",
       "      <td>-0.198476</td>\n",
       "      <td>-0.357203</td>\n",
       "      <td>0.531045</td>\n",
       "      <td>-0.463981</td>\n",
       "      <td>-0.699040</td>\n",
       "      <td>0.392863</td>\n",
       "      <td>0.345808</td>\n",
       "      <td>0.493421</td>\n",
       "      <td>-0.029291</td>\n",
       "      <td>1.000000</td>\n",
       "      <td>-0.110920</td>\n",
       "      <td>-0.119543</td>\n",
       "    </tr>\n",
       "    <tr>\n",
       "      <th>quality</th>\n",
       "      <td>-0.069711</td>\n",
       "      <td>-0.246330</td>\n",
       "      <td>0.055514</td>\n",
       "      <td>-0.043652</td>\n",
       "      <td>-0.201719</td>\n",
       "      <td>0.047835</td>\n",
       "      <td>-0.055353</td>\n",
       "      <td>-0.307800</td>\n",
       "      <td>0.016567</td>\n",
       "      <td>0.033206</td>\n",
       "      <td>0.439978</td>\n",
       "      <td>-0.110920</td>\n",
       "      <td>1.000000</td>\n",
       "      <td>0.950051</td>\n",
       "    </tr>\n",
       "    <tr>\n",
       "      <th>quality_bin</th>\n",
       "      <td>-0.067072</td>\n",
       "      <td>-0.246090</td>\n",
       "      <td>0.052215</td>\n",
       "      <td>-0.063735</td>\n",
       "      <td>-0.204673</td>\n",
       "      <td>0.023467</td>\n",
       "      <td>-0.069985</td>\n",
       "      <td>-0.330298</td>\n",
       "      <td>0.021535</td>\n",
       "      <td>0.035477</td>\n",
       "      <td>0.464583</td>\n",
       "      <td>-0.119543</td>\n",
       "      <td>0.950051</td>\n",
       "      <td>1.000000</td>\n",
       "    </tr>\n",
       "  </tbody>\n",
       "</table>\n",
       "</div>"
      ],
      "text/plain": [
       "                      fixed_acidity  volatile_acidity  citric_acid  \\\n",
       "fixed_acidity              1.000000          0.211634     0.330649   \n",
       "volatile_acidity           0.211634          1.000000    -0.390583   \n",
       "citric_acid                0.330649         -0.390583     1.000000   \n",
       "residual_sugar            -0.128035         -0.213330     0.146128   \n",
       "chlorides                  0.293998          0.384112     0.035559   \n",
       "free_sulfur_dioxide       -0.271824         -0.352783     0.135849   \n",
       "total_sulfur_dioxide      -0.314398         -0.425713     0.205406   \n",
       "density                    0.446214          0.256741     0.105441   \n",
       "pH                        -0.252640          0.283168    -0.333025   \n",
       "sulphates                  0.310737          0.234166     0.049098   \n",
       "alcohol                   -0.084436         -0.026714    -0.027398   \n",
       "wine_color                 0.478392          0.661024    -0.198476   \n",
       "quality                   -0.069711         -0.246330     0.055514   \n",
       "quality_bin               -0.067072         -0.246090     0.052215   \n",
       "\n",
       "                      residual_sugar  chlorides  free_sulfur_dioxide  \\\n",
       "fixed_acidity              -0.128035   0.293998            -0.271824   \n",
       "volatile_acidity           -0.213330   0.384112            -0.352783   \n",
       "citric_acid                 0.146128   0.035559             0.135849   \n",
       "residual_sugar              1.000000  -0.142692             0.420374   \n",
       "chlorides                  -0.142692   1.000000            -0.199992   \n",
       "free_sulfur_dioxide         0.420374  -0.199992             1.000000   \n",
       "total_sulfur_dioxide        0.504384  -0.293359             0.711356   \n",
       "density                     0.544305   0.371656             0.048482   \n",
       "pH                         -0.261960   0.067690            -0.149740   \n",
       "sulphates                  -0.198502   0.384857            -0.179912   \n",
       "alcohol                    -0.377224  -0.254699            -0.193783   \n",
       "wine_color                 -0.357203   0.531045            -0.463981   \n",
       "quality                    -0.043652  -0.201719             0.047835   \n",
       "quality_bin                -0.063735  -0.204673             0.023467   \n",
       "\n",
       "                      total_sulfur_dioxide   density        pH  sulphates  \\\n",
       "fixed_acidity                    -0.314398  0.446214 -0.252640   0.310737   \n",
       "volatile_acidity                 -0.425713  0.256741  0.283168   0.234166   \n",
       "citric_acid                       0.205406  0.105441 -0.333025   0.049098   \n",
       "residual_sugar                    0.504384  0.544305 -0.261960  -0.198502   \n",
       "chlorides                        -0.293359  0.371656  0.067690   0.384857   \n",
       "free_sulfur_dioxide               0.711356  0.048482 -0.149740  -0.179912   \n",
       "total_sulfur_dioxide              1.000000  0.049551 -0.237304  -0.264605   \n",
       "density                           0.049551  1.000000  0.023757   0.257178   \n",
       "pH                               -0.237304  0.023757  1.000000   0.196842   \n",
       "sulphates                        -0.264605  0.257178  0.196842   1.000000   \n",
       "alcohol                          -0.279152 -0.704385  0.118445   0.015332   \n",
       "wine_color                       -0.699040  0.392863  0.345808   0.493421   \n",
       "quality                          -0.055353 -0.307800  0.016567   0.033206   \n",
       "quality_bin                      -0.069985 -0.330298  0.021535   0.035477   \n",
       "\n",
       "                       alcohol  wine_color   quality  quality_bin  \n",
       "fixed_acidity        -0.084436    0.478392 -0.069711    -0.067072  \n",
       "volatile_acidity     -0.026714    0.661024 -0.246330    -0.246090  \n",
       "citric_acid          -0.027398   -0.198476  0.055514     0.052215  \n",
       "residual_sugar       -0.377224   -0.357203 -0.043652    -0.063735  \n",
       "chlorides            -0.254699    0.531045 -0.201719    -0.204673  \n",
       "free_sulfur_dioxide  -0.193783   -0.463981  0.047835     0.023467  \n",
       "total_sulfur_dioxide -0.279152   -0.699040 -0.055353    -0.069985  \n",
       "density              -0.704385    0.392863 -0.307800    -0.330298  \n",
       "pH                    0.118445    0.345808  0.016567     0.021535  \n",
       "sulphates             0.015332    0.493421  0.033206     0.035477  \n",
       "alcohol               1.000000   -0.029291  0.439978     0.464583  \n",
       "wine_color           -0.029291    1.000000 -0.110920    -0.119543  \n",
       "quality               0.439978   -0.110920  1.000000     0.950051  \n",
       "quality_bin           0.464583   -0.119543  0.950051     1.000000  "
      ]
     },
     "execution_count": 16,
     "metadata": {},
     "output_type": "execute_result"
    }
   ],
   "source": [
    "train_scaled.corr()"
   ]
  },
  {
   "cell_type": "code",
   "execution_count": 17,
   "id": "dd0f2f21-3e03-46c7-88a7-22aa7afbec22",
   "metadata": {
    "tags": []
   },
   "outputs": [
    {
     "data": {
      "text/html": [
       "<div>\n",
       "<style scoped>\n",
       "    .dataframe tbody tr th:only-of-type {\n",
       "        vertical-align: middle;\n",
       "    }\n",
       "\n",
       "    .dataframe tbody tr th {\n",
       "        vertical-align: top;\n",
       "    }\n",
       "\n",
       "    .dataframe thead th {\n",
       "        text-align: right;\n",
       "    }\n",
       "</style>\n",
       "<table border=\"1\" class=\"dataframe\">\n",
       "  <thead>\n",
       "    <tr style=\"text-align: right;\">\n",
       "      <th></th>\n",
       "      <th>fixed_acidity</th>\n",
       "      <th>volatile_acidity</th>\n",
       "      <th>citric_acid</th>\n",
       "      <th>residual_sugar</th>\n",
       "      <th>chlorides</th>\n",
       "      <th>free_sulfur_dioxide</th>\n",
       "      <th>total_sulfur_dioxide</th>\n",
       "      <th>density</th>\n",
       "      <th>pH</th>\n",
       "      <th>sulphates</th>\n",
       "      <th>alcohol</th>\n",
       "      <th>wine_color</th>\n",
       "      <th>quality</th>\n",
       "      <th>quality_bin</th>\n",
       "    </tr>\n",
       "  </thead>\n",
       "  <tbody>\n",
       "    <tr>\n",
       "      <th>0</th>\n",
       "      <td>-1.014358</td>\n",
       "      <td>-0.232723</td>\n",
       "      <td>-0.108553</td>\n",
       "      <td>-0.742782</td>\n",
       "      <td>-0.778562</td>\n",
       "      <td>0.399995</td>\n",
       "      <td>0.445960</td>\n",
       "      <td>-1.964292</td>\n",
       "      <td>1.184573</td>\n",
       "      <td>-0.835314</td>\n",
       "      <td>2.014252</td>\n",
       "      <td>-0.563273</td>\n",
       "      <td>7</td>\n",
       "      <td>2</td>\n",
       "    </tr>\n",
       "    <tr>\n",
       "      <th>1</th>\n",
       "      <td>-1.725167</td>\n",
       "      <td>0.073793</td>\n",
       "      <td>-0.455607</td>\n",
       "      <td>0.494407</td>\n",
       "      <td>-0.747316</td>\n",
       "      <td>-0.386571</td>\n",
       "      <td>-0.014582</td>\n",
       "      <td>-0.771300</td>\n",
       "      <td>1.060270</td>\n",
       "      <td>-0.905199</td>\n",
       "      <td>0.672085</td>\n",
       "      <td>-0.563273</td>\n",
       "      <td>6</td>\n",
       "      <td>1</td>\n",
       "    </tr>\n",
       "    <tr>\n",
       "      <th>2</th>\n",
       "      <td>0.170325</td>\n",
       "      <td>0.135096</td>\n",
       "      <td>-0.594429</td>\n",
       "      <td>-0.764113</td>\n",
       "      <td>-1.184768</td>\n",
       "      <td>0.006712</td>\n",
       "      <td>-0.847098</td>\n",
       "      <td>-1.868579</td>\n",
       "      <td>-1.798708</td>\n",
       "      <td>-1.184738</td>\n",
       "      <td>1.678710</td>\n",
       "      <td>-0.563273</td>\n",
       "      <td>6</td>\n",
       "      <td>1</td>\n",
       "    </tr>\n",
       "    <tr>\n",
       "      <th>3</th>\n",
       "      <td>-0.540485</td>\n",
       "      <td>-0.968361</td>\n",
       "      <td>0.654965</td>\n",
       "      <td>1.859582</td>\n",
       "      <td>-0.497343</td>\n",
       "      <td>0.905644</td>\n",
       "      <td>0.215689</td>\n",
       "      <td>0.722504</td>\n",
       "      <td>0.376601</td>\n",
       "      <td>1.331118</td>\n",
       "      <td>-0.166769</td>\n",
       "      <td>-0.563273</td>\n",
       "      <td>7</td>\n",
       "      <td>2</td>\n",
       "    </tr>\n",
       "    <tr>\n",
       "      <th>4</th>\n",
       "      <td>1.039092</td>\n",
       "      <td>-1.152271</td>\n",
       "      <td>1.210251</td>\n",
       "      <td>-0.849437</td>\n",
       "      <td>-0.747316</td>\n",
       "      <td>-0.779853</td>\n",
       "      <td>0.091697</td>\n",
       "      <td>-0.501253</td>\n",
       "      <td>-1.177191</td>\n",
       "      <td>-0.905199</td>\n",
       "      <td>-0.166769</td>\n",
       "      <td>-0.563273</td>\n",
       "      <td>6</td>\n",
       "      <td>1</td>\n",
       "    </tr>\n",
       "    <tr>\n",
       "      <th>...</th>\n",
       "      <td>...</td>\n",
       "      <td>...</td>\n",
       "      <td>...</td>\n",
       "      <td>...</td>\n",
       "      <td>...</td>\n",
       "      <td>...</td>\n",
       "      <td>...</td>\n",
       "      <td>...</td>\n",
       "      <td>...</td>\n",
       "      <td>...</td>\n",
       "      <td>...</td>\n",
       "      <td>...</td>\n",
       "      <td>...</td>\n",
       "      <td>...</td>\n",
       "    </tr>\n",
       "    <tr>\n",
       "      <th>3632</th>\n",
       "      <td>-0.461506</td>\n",
       "      <td>-0.539239</td>\n",
       "      <td>-0.108553</td>\n",
       "      <td>1.902243</td>\n",
       "      <td>-0.091137</td>\n",
       "      <td>0.512361</td>\n",
       "      <td>1.172197</td>\n",
       "      <td>1.139539</td>\n",
       "      <td>-1.239343</td>\n",
       "      <td>-0.206350</td>\n",
       "      <td>-1.173394</td>\n",
       "      <td>-0.563273</td>\n",
       "      <td>6</td>\n",
       "      <td>1</td>\n",
       "    </tr>\n",
       "    <tr>\n",
       "      <th>3633</th>\n",
       "      <td>-1.014358</td>\n",
       "      <td>0.196399</td>\n",
       "      <td>-1.219126</td>\n",
       "      <td>0.174444</td>\n",
       "      <td>-0.591082</td>\n",
       "      <td>0.175262</td>\n",
       "      <td>1.207624</td>\n",
       "      <td>-0.091055</td>\n",
       "      <td>-0.307067</td>\n",
       "      <td>0.702154</td>\n",
       "      <td>-0.586196</td>\n",
       "      <td>-0.563273</td>\n",
       "      <td>5</td>\n",
       "      <td>0</td>\n",
       "    </tr>\n",
       "    <tr>\n",
       "      <th>3634</th>\n",
       "      <td>0.249303</td>\n",
       "      <td>1.422463</td>\n",
       "      <td>-1.635590</td>\n",
       "      <td>-0.614797</td>\n",
       "      <td>1.064988</td>\n",
       "      <td>-0.948403</td>\n",
       "      <td>-1.591049</td>\n",
       "      <td>0.428529</td>\n",
       "      <td>0.500905</td>\n",
       "      <td>0.422614</td>\n",
       "      <td>-0.082884</td>\n",
       "      <td>1.775338</td>\n",
       "      <td>6</td>\n",
       "      <td>1</td>\n",
       "    </tr>\n",
       "    <tr>\n",
       "      <th>3635</th>\n",
       "      <td>-0.698443</td>\n",
       "      <td>-0.110117</td>\n",
       "      <td>0.030268</td>\n",
       "      <td>-0.849437</td>\n",
       "      <td>-0.559836</td>\n",
       "      <td>-1.060770</td>\n",
       "      <td>-0.723106</td>\n",
       "      <td>-1.619042</td>\n",
       "      <td>0.500905</td>\n",
       "      <td>-0.485889</td>\n",
       "      <td>1.510940</td>\n",
       "      <td>-0.563273</td>\n",
       "      <td>6</td>\n",
       "      <td>1</td>\n",
       "    </tr>\n",
       "    <tr>\n",
       "      <th>3636</th>\n",
       "      <td>0.407261</td>\n",
       "      <td>-0.539239</td>\n",
       "      <td>1.210251</td>\n",
       "      <td>-0.636128</td>\n",
       "      <td>-0.247370</td>\n",
       "      <td>0.006712</td>\n",
       "      <td>0.924214</td>\n",
       "      <td>-0.733698</td>\n",
       "      <td>-0.928584</td>\n",
       "      <td>0.282845</td>\n",
       "      <td>0.084887</td>\n",
       "      <td>-0.563273</td>\n",
       "      <td>6</td>\n",
       "      <td>1</td>\n",
       "    </tr>\n",
       "  </tbody>\n",
       "</table>\n",
       "<p>3637 rows × 14 columns</p>\n",
       "</div>"
      ],
      "text/plain": [
       "      fixed_acidity  volatile_acidity  citric_acid  residual_sugar  chlorides  \\\n",
       "0         -1.014358         -0.232723    -0.108553       -0.742782  -0.778562   \n",
       "1         -1.725167          0.073793    -0.455607        0.494407  -0.747316   \n",
       "2          0.170325          0.135096    -0.594429       -0.764113  -1.184768   \n",
       "3         -0.540485         -0.968361     0.654965        1.859582  -0.497343   \n",
       "4          1.039092         -1.152271     1.210251       -0.849437  -0.747316   \n",
       "...             ...               ...          ...             ...        ...   \n",
       "3632      -0.461506         -0.539239    -0.108553        1.902243  -0.091137   \n",
       "3633      -1.014358          0.196399    -1.219126        0.174444  -0.591082   \n",
       "3634       0.249303          1.422463    -1.635590       -0.614797   1.064988   \n",
       "3635      -0.698443         -0.110117     0.030268       -0.849437  -0.559836   \n",
       "3636       0.407261         -0.539239     1.210251       -0.636128  -0.247370   \n",
       "\n",
       "      free_sulfur_dioxide  total_sulfur_dioxide   density        pH  \\\n",
       "0                0.399995              0.445960 -1.964292  1.184573   \n",
       "1               -0.386571             -0.014582 -0.771300  1.060270   \n",
       "2                0.006712             -0.847098 -1.868579 -1.798708   \n",
       "3                0.905644              0.215689  0.722504  0.376601   \n",
       "4               -0.779853              0.091697 -0.501253 -1.177191   \n",
       "...                   ...                   ...       ...       ...   \n",
       "3632             0.512361              1.172197  1.139539 -1.239343   \n",
       "3633             0.175262              1.207624 -0.091055 -0.307067   \n",
       "3634            -0.948403             -1.591049  0.428529  0.500905   \n",
       "3635            -1.060770             -0.723106 -1.619042  0.500905   \n",
       "3636             0.006712              0.924214 -0.733698 -0.928584   \n",
       "\n",
       "      sulphates   alcohol  wine_color  quality  quality_bin  \n",
       "0     -0.835314  2.014252   -0.563273        7            2  \n",
       "1     -0.905199  0.672085   -0.563273        6            1  \n",
       "2     -1.184738  1.678710   -0.563273        6            1  \n",
       "3      1.331118 -0.166769   -0.563273        7            2  \n",
       "4     -0.905199 -0.166769   -0.563273        6            1  \n",
       "...         ...       ...         ...      ...          ...  \n",
       "3632  -0.206350 -1.173394   -0.563273        6            1  \n",
       "3633   0.702154 -0.586196   -0.563273        5            0  \n",
       "3634   0.422614 -0.082884    1.775338        6            1  \n",
       "3635  -0.485889  1.510940   -0.563273        6            1  \n",
       "3636   0.282845  0.084887   -0.563273        6            1  \n",
       "\n",
       "[3637 rows x 14 columns]"
      ]
     },
     "execution_count": 17,
     "metadata": {},
     "output_type": "execute_result"
    }
   ],
   "source": [
    "train_scaled"
   ]
  },
  {
   "cell_type": "markdown",
   "id": "4fa99552",
   "metadata": {},
   "source": [
    "# Explore"
   ]
  },
  {
   "cell_type": "markdown",
   "id": "0c7c9f62-b863-404b-8409-5ff5cc1b0751",
   "metadata": {},
   "source": [
    "\n",
    "Residual sugar and Density, \n",
    "\n",
    "Fixed acidity and Residual Sugar\n",
    "\n",
    "Density and Fixed Acidity\n",
    "\n",
    "Residual Sugar and Volatile Acidity\n",
    "Wine_color"
   ]
  },
  {
   "cell_type": "markdown",
   "id": "c098ce21",
   "metadata": {},
   "source": [
    "### Residual sugar"
   ]
  },
  {
   "cell_type": "code",
   "execution_count": 185,
   "id": "65d7e221",
   "metadata": {},
   "outputs": [
    {
     "data": {
      "image/png": "[encoded data removed]",
      "text/plain": [
       "<Figure size 640x480 with 1 Axes>"
      ]
     },
     "metadata": {},
     "output_type": "display_data"
    }
   ],
   "source": [
    "sns.histplot(data= train, x='residual_sugar')\n",
    "plt.title('Distrobution of Residual Sugar')\n",
    "plt.show()"
   ]
  },
  {
   "cell_type": "code",
   "execution_count": 186,
   "id": "5cc0e842",
   "metadata": {},
   "outputs": [
    {
     "data": {
      "image/png": "[encoded data removed]",
      "text/plain": [
       "<Figure size 640x480 with 1 Axes>"
      ]
     },
     "metadata": {},
     "output_type": "display_data"
    }
   ],
   "source": [
    "sns.barplot(data= train, y='residual_sugar', x='quality')\n",
    "plt.title('Average of Residual Sugar by Quality')\n",
    "plt.show()"
   ]
  },
  {
   "cell_type": "code",
   "execution_count": 193,
   "id": "a17c73d0",
   "metadata": {},
   "outputs": [
    {
     "data": {
      "image/png": "[encoded data removed]",
      "text/plain": [
       "<Figure size 640x480 with 1 Axes>"
      ]
     },
     "metadata": {},
     "output_type": "display_data"
    }
   ],
   "source": [
    "sns.barplot(data= train, y='residual_sugar', x='quality_bin')\n",
    "plt.title('Average of Residual Sugar by Quality Bins')\n",
    "plt.show()"
   ]
  },
  {
   "cell_type": "markdown",
   "id": "6f045b5c",
   "metadata": {},
   "source": [
    "### Alcohol"
   ]
  },
  {
   "cell_type": "code",
   "execution_count": 188,
   "id": "17cb2de0",
   "metadata": {},
   "outputs": [
    {
     "data": {
      "image/png": "[encoded data removed]",
      "text/plain": [
       "<Figure size 640x480 with 1 Axes>"
      ]
     },
     "metadata": {},
     "output_type": "display_data"
    }
   ],
   "source": [
    "sns.histplot(data= train, x='alcohol')\n",
    "plt.title('Distrobution of alcohol')\n",
    "plt.show()"
   ]
  },
  {
   "cell_type": "code",
   "execution_count": 187,
   "id": "f11941b8",
   "metadata": {},
   "outputs": [
    {
     "data": {
      "image/png": "[encoded data removed]",
      "text/plain": [
       "<Figure size 640x480 with 1 Axes>"
      ]
     },
     "metadata": {},
     "output_type": "display_data"
    }
   ],
   "source": [
    "sns.barplot(data= train, y='alcohol', x='quality')\n",
    "plt.title('Average of Alcohol by Quality')\n",
    "plt.show()"
   ]
  },
  {
   "cell_type": "code",
   "execution_count": 192,
   "id": "5aaae46d",
   "metadata": {},
   "outputs": [
    {
     "data": {
      "image/png": "[encoded data removed]",
      "text/plain": [
       "<Figure size 640x480 with 1 Axes>"
      ]
     },
     "metadata": {},
     "output_type": "display_data"
    }
   ],
   "source": [
    "sns.barplot(data= train, y='alcohol', x='quality_bin')\n",
    "plt.title('Average of Alcohol by Quality Bins')\n",
    "plt.show()"
   ]
  },
  {
   "cell_type": "markdown",
   "id": "86ce518b",
   "metadata": {},
   "source": [
    "H$_0$: Average alcohol in high quality wine (7,8,9) <= Average alcohol is low quality wine (3,4,5)\n",
    "\n",
    "H$_α$: Average alcohol in high quality wine (7,8,9) > Average alcohol in low quality wine (3,4,5)"
   ]
  },
  {
   "cell_type": "code",
   "execution_count": 195,
   "id": "210d7b9e",
   "metadata": {},
   "outputs": [
    {
     "name": "stdout",
     "output_type": "stream",
     "text": [
      "We reject the null hypothesis\n"
     ]
    }
   ],
   "source": [
    "t, p = stats.ttest_ind(high_q.alcohol, low_q.alcohol, equal_var=False)\n",
    "t, p\n",
    "\n",
    "if p / 2 > α:\n",
    "    print(\"We fail to reject the null hypothesis\")\n",
    "elif t < 0:\n",
    "    print(\"We fail to reject the null hypothesis\")\n",
    "else:\n",
    "    print(\"We reject the null hypothesis\")"
   ]
  },
  {
   "cell_type": "markdown",
   "id": "7757aba3",
   "metadata": {},
   "source": [
    "### Density "
   ]
  },
  {
   "cell_type": "code",
   "execution_count": 189,
   "id": "59684070",
   "metadata": {},
   "outputs": [
    {
     "data": {
      "image/png": "[encoded data removed]",
      "text/plain": [
       "<Figure size 640x480 with 1 Axes>"
      ]
     },
     "metadata": {},
     "output_type": "display_data"
    }
   ],
   "source": [
    "sns.histplot(data= train, x='density')\n",
    "plt.title('Distrobution of alcohol')\n",
    "plt.show()"
   ]
  },
  {
   "cell_type": "code",
   "execution_count": 190,
   "id": "30f7cd9f",
   "metadata": {},
   "outputs": [
    {
     "data": {
      "image/png": "[encoded data removed]",
      "text/plain": [
       "<Figure size 640x480 with 1 Axes>"
      ]
     },
     "metadata": {},
     "output_type": "display_data"
    }
   ],
   "source": [
    "sns.barplot(data= train, y='density', x='quality')\n",
    "plt.title('Average of Density by Quality')\n",
    "plt.show()"
   ]
  },
  {
   "cell_type": "code",
   "execution_count": 194,
   "id": "93597a13",
   "metadata": {},
   "outputs": [
    {
     "data": {
      "image/png": "[encoded data removed]",
      "text/plain": [
       "<Figure size 640x480 with 1 Axes>"
      ]
     },
     "metadata": {},
     "output_type": "display_data"
    }
   ],
   "source": [
    "sns.barplot(data= train, y='density', x='quality_bin')\n",
    "plt.title('Average of Density by Quality Bins')\n",
    "plt.show()"
   ]
  },
  {
   "cell_type": "markdown",
   "id": "cc4c272e",
   "metadata": {},
   "source": [
    "H$_0$: Average Density in high quality wine (7,8,9) <= Average Density in low quality wine (3,4,5)\n",
    "\n",
    "H$_α$: Average Density in high quality wine (7,8,9) > Average Density in low quality wine (3,4,5)"
   ]
  },
  {
   "cell_type": "code",
   "execution_count": 196,
   "id": "871ebfde",
   "metadata": {},
   "outputs": [
    {
     "name": "stdout",
     "output_type": "stream",
     "text": [
      "We fail to reject the null hypothesis\n"
     ]
    }
   ],
   "source": [
    "t, p = stats.ttest_ind(high_q.density, low_q.density, equal_var=False)\n",
    "t, p\n",
    "\n",
    "if p / 2 > α:\n",
    "    print(\"We fail to reject the null hypothesis\")\n",
    "elif t < 0:\n",
    "    print(\"We fail to reject the null hypothesis\")\n",
    "else:\n",
    "    print(\"We reject the null hypothesis\")"
   ]
  },
  {
   "cell_type": "code",
   "execution_count": 198,
   "id": "feeed4bc",
   "metadata": {},
   "outputs": [
    {
     "data": {
      "text/html": [
       "<div>\n",
       "<style scoped>\n",
       "    .dataframe tbody tr th:only-of-type {\n",
       "        vertical-align: middle;\n",
       "    }\n",
       "\n",
       "    .dataframe tbody tr th {\n",
       "        vertical-align: top;\n",
       "    }\n",
       "\n",
       "    .dataframe thead th {\n",
       "        text-align: right;\n",
       "    }\n",
       "</style>\n",
       "<table border=\"1\" class=\"dataframe\">\n",
       "  <thead>\n",
       "    <tr style=\"text-align: right;\">\n",
       "      <th></th>\n",
       "      <th>fixed_acidity</th>\n",
       "      <th>volatile_acidity</th>\n",
       "      <th>citric_acid</th>\n",
       "      <th>residual_sugar</th>\n",
       "      <th>chlorides</th>\n",
       "      <th>free_sulfur_dioxide</th>\n",
       "      <th>total_sulfur_dioxide</th>\n",
       "      <th>density</th>\n",
       "      <th>pH</th>\n",
       "      <th>sulphates</th>\n",
       "      <th>alcohol</th>\n",
       "      <th>quality</th>\n",
       "      <th>wine_color</th>\n",
       "      <th>quality_bin</th>\n",
       "      <th>cluster</th>\n",
       "    </tr>\n",
       "  </thead>\n",
       "  <tbody>\n",
       "    <tr>\n",
       "      <th>fixed_acidity</th>\n",
       "      <td>1.000000</td>\n",
       "      <td>0.211634</td>\n",
       "      <td>0.330649</td>\n",
       "      <td>-0.128035</td>\n",
       "      <td>0.293998</td>\n",
       "      <td>-0.271824</td>\n",
       "      <td>-0.314398</td>\n",
       "      <td>0.446214</td>\n",
       "      <td>-0.252640</td>\n",
       "      <td>0.310737</td>\n",
       "      <td>-0.084436</td>\n",
       "      <td>-0.069711</td>\n",
       "      <td>0.478392</td>\n",
       "      <td>-0.067072</td>\n",
       "      <td>0.048065</td>\n",
       "    </tr>\n",
       "    <tr>\n",
       "      <th>volatile_acidity</th>\n",
       "      <td>0.211634</td>\n",
       "      <td>1.000000</td>\n",
       "      <td>-0.390583</td>\n",
       "      <td>-0.213330</td>\n",
       "      <td>0.384112</td>\n",
       "      <td>-0.352783</td>\n",
       "      <td>-0.425713</td>\n",
       "      <td>0.256741</td>\n",
       "      <td>0.283168</td>\n",
       "      <td>0.234166</td>\n",
       "      <td>-0.026714</td>\n",
       "      <td>-0.246330</td>\n",
       "      <td>0.661024</td>\n",
       "      <td>-0.246090</td>\n",
       "      <td>-0.013805</td>\n",
       "    </tr>\n",
       "    <tr>\n",
       "      <th>citric_acid</th>\n",
       "      <td>0.330649</td>\n",
       "      <td>-0.390583</td>\n",
       "      <td>1.000000</td>\n",
       "      <td>0.146128</td>\n",
       "      <td>0.035559</td>\n",
       "      <td>0.135849</td>\n",
       "      <td>0.205406</td>\n",
       "      <td>0.105441</td>\n",
       "      <td>-0.333025</td>\n",
       "      <td>0.049098</td>\n",
       "      <td>-0.027398</td>\n",
       "      <td>0.055514</td>\n",
       "      <td>-0.198476</td>\n",
       "      <td>0.052215</td>\n",
       "      <td>0.049355</td>\n",
       "    </tr>\n",
       "    <tr>\n",
       "      <th>residual_sugar</th>\n",
       "      <td>-0.128035</td>\n",
       "      <td>-0.213330</td>\n",
       "      <td>0.146128</td>\n",
       "      <td>1.000000</td>\n",
       "      <td>-0.142692</td>\n",
       "      <td>0.420374</td>\n",
       "      <td>0.504384</td>\n",
       "      <td>0.544305</td>\n",
       "      <td>-0.261960</td>\n",
       "      <td>-0.198502</td>\n",
       "      <td>-0.377224</td>\n",
       "      <td>-0.043652</td>\n",
       "      <td>-0.357203</td>\n",
       "      <td>-0.063735</td>\n",
       "      <td>0.301292</td>\n",
       "    </tr>\n",
       "    <tr>\n",
       "      <th>chlorides</th>\n",
       "      <td>0.293998</td>\n",
       "      <td>0.384112</td>\n",
       "      <td>0.035559</td>\n",
       "      <td>-0.142692</td>\n",
       "      <td>1.000000</td>\n",
       "      <td>-0.199992</td>\n",
       "      <td>-0.293359</td>\n",
       "      <td>0.371656</td>\n",
       "      <td>0.067690</td>\n",
       "      <td>0.384857</td>\n",
       "      <td>-0.254699</td>\n",
       "      <td>-0.201719</td>\n",
       "      <td>0.531045</td>\n",
       "      <td>-0.204673</td>\n",
       "      <td>0.040625</td>\n",
       "    </tr>\n",
       "    <tr>\n",
       "      <th>free_sulfur_dioxide</th>\n",
       "      <td>-0.271824</td>\n",
       "      <td>-0.352783</td>\n",
       "      <td>0.135849</td>\n",
       "      <td>0.420374</td>\n",
       "      <td>-0.199992</td>\n",
       "      <td>1.000000</td>\n",
       "      <td>0.711356</td>\n",
       "      <td>0.048482</td>\n",
       "      <td>-0.149740</td>\n",
       "      <td>-0.179912</td>\n",
       "      <td>-0.193783</td>\n",
       "      <td>0.047835</td>\n",
       "      <td>-0.463981</td>\n",
       "      <td>0.023467</td>\n",
       "      <td>0.082344</td>\n",
       "    </tr>\n",
       "    <tr>\n",
       "      <th>total_sulfur_dioxide</th>\n",
       "      <td>-0.314398</td>\n",
       "      <td>-0.425713</td>\n",
       "      <td>0.205406</td>\n",
       "      <td>0.504384</td>\n",
       "      <td>-0.293359</td>\n",
       "      <td>0.711356</td>\n",
       "      <td>1.000000</td>\n",
       "      <td>0.049551</td>\n",
       "      <td>-0.237304</td>\n",
       "      <td>-0.264605</td>\n",
       "      <td>-0.279152</td>\n",
       "      <td>-0.055353</td>\n",
       "      <td>-0.699040</td>\n",
       "      <td>-0.069985</td>\n",
       "      <td>0.024220</td>\n",
       "    </tr>\n",
       "    <tr>\n",
       "      <th>density</th>\n",
       "      <td>0.446214</td>\n",
       "      <td>0.256741</td>\n",
       "      <td>0.105441</td>\n",
       "      <td>0.544305</td>\n",
       "      <td>0.371656</td>\n",
       "      <td>0.048482</td>\n",
       "      <td>0.049551</td>\n",
       "      <td>1.000000</td>\n",
       "      <td>0.023757</td>\n",
       "      <td>0.257178</td>\n",
       "      <td>-0.704385</td>\n",
       "      <td>-0.307800</td>\n",
       "      <td>0.392863</td>\n",
       "      <td>-0.330298</td>\n",
       "      <td>0.266222</td>\n",
       "    </tr>\n",
       "    <tr>\n",
       "      <th>pH</th>\n",
       "      <td>-0.252640</td>\n",
       "      <td>0.283168</td>\n",
       "      <td>-0.333025</td>\n",
       "      <td>-0.261960</td>\n",
       "      <td>0.067690</td>\n",
       "      <td>-0.149740</td>\n",
       "      <td>-0.237304</td>\n",
       "      <td>0.023757</td>\n",
       "      <td>1.000000</td>\n",
       "      <td>0.196842</td>\n",
       "      <td>0.118445</td>\n",
       "      <td>0.016567</td>\n",
       "      <td>0.345808</td>\n",
       "      <td>0.021535</td>\n",
       "      <td>-0.063445</td>\n",
       "    </tr>\n",
       "    <tr>\n",
       "      <th>sulphates</th>\n",
       "      <td>0.310737</td>\n",
       "      <td>0.234166</td>\n",
       "      <td>0.049098</td>\n",
       "      <td>-0.198502</td>\n",
       "      <td>0.384857</td>\n",
       "      <td>-0.179912</td>\n",
       "      <td>-0.264605</td>\n",
       "      <td>0.257178</td>\n",
       "      <td>0.196842</td>\n",
       "      <td>1.000000</td>\n",
       "      <td>0.015332</td>\n",
       "      <td>0.033206</td>\n",
       "      <td>0.493421</td>\n",
       "      <td>0.035477</td>\n",
       "      <td>0.060310</td>\n",
       "    </tr>\n",
       "    <tr>\n",
       "      <th>alcohol</th>\n",
       "      <td>-0.084436</td>\n",
       "      <td>-0.026714</td>\n",
       "      <td>-0.027398</td>\n",
       "      <td>-0.377224</td>\n",
       "      <td>-0.254699</td>\n",
       "      <td>-0.193783</td>\n",
       "      <td>-0.279152</td>\n",
       "      <td>-0.704385</td>\n",
       "      <td>0.118445</td>\n",
       "      <td>0.015332</td>\n",
       "      <td>1.000000</td>\n",
       "      <td>0.439978</td>\n",
       "      <td>-0.029291</td>\n",
       "      <td>0.464583</td>\n",
       "      <td>-0.171244</td>\n",
       "    </tr>\n",
       "    <tr>\n",
       "      <th>quality</th>\n",
       "      <td>-0.069711</td>\n",
       "      <td>-0.246330</td>\n",
       "      <td>0.055514</td>\n",
       "      <td>-0.043652</td>\n",
       "      <td>-0.201719</td>\n",
       "      <td>0.047835</td>\n",
       "      <td>-0.055353</td>\n",
       "      <td>-0.307800</td>\n",
       "      <td>0.016567</td>\n",
       "      <td>0.033206</td>\n",
       "      <td>0.439978</td>\n",
       "      <td>1.000000</td>\n",
       "      <td>-0.110920</td>\n",
       "      <td>0.950051</td>\n",
       "      <td>-0.021492</td>\n",
       "    </tr>\n",
       "    <tr>\n",
       "      <th>wine_color</th>\n",
       "      <td>0.478392</td>\n",
       "      <td>0.661024</td>\n",
       "      <td>-0.198476</td>\n",
       "      <td>-0.357203</td>\n",
       "      <td>0.531045</td>\n",
       "      <td>-0.463981</td>\n",
       "      <td>-0.699040</td>\n",
       "      <td>0.392863</td>\n",
       "      <td>0.345808</td>\n",
       "      <td>0.493421</td>\n",
       "      <td>-0.029291</td>\n",
       "      <td>-0.110920</td>\n",
       "      <td>1.000000</td>\n",
       "      <td>-0.119543</td>\n",
       "      <td>0.038798</td>\n",
       "    </tr>\n",
       "    <tr>\n",
       "      <th>quality_bin</th>\n",
       "      <td>-0.067072</td>\n",
       "      <td>-0.246090</td>\n",
       "      <td>0.052215</td>\n",
       "      <td>-0.063735</td>\n",
       "      <td>-0.204673</td>\n",
       "      <td>0.023467</td>\n",
       "      <td>-0.069985</td>\n",
       "      <td>-0.330298</td>\n",
       "      <td>0.021535</td>\n",
       "      <td>0.035477</td>\n",
       "      <td>0.464583</td>\n",
       "      <td>0.950051</td>\n",
       "      <td>-0.119543</td>\n",
       "      <td>1.000000</td>\n",
       "      <td>-0.021866</td>\n",
       "    </tr>\n",
       "    <tr>\n",
       "      <th>cluster</th>\n",
       "      <td>0.048065</td>\n",
       "      <td>-0.013805</td>\n",
       "      <td>0.049355</td>\n",
       "      <td>0.301292</td>\n",
       "      <td>0.040625</td>\n",
       "      <td>0.082344</td>\n",
       "      <td>0.024220</td>\n",
       "      <td>0.266222</td>\n",
       "      <td>-0.063445</td>\n",
       "      <td>0.060310</td>\n",
       "      <td>-0.171244</td>\n",
       "      <td>-0.021492</td>\n",
       "      <td>0.038798</td>\n",
       "      <td>-0.021866</td>\n",
       "      <td>1.000000</td>\n",
       "    </tr>\n",
       "  </tbody>\n",
       "</table>\n",
       "</div>"
      ],
      "text/plain": [
       "                      fixed_acidity  volatile_acidity  citric_acid  \\\n",
       "fixed_acidity              1.000000          0.211634     0.330649   \n",
       "volatile_acidity           0.211634          1.000000    -0.390583   \n",
       "citric_acid                0.330649         -0.390583     1.000000   \n",
       "residual_sugar            -0.128035         -0.213330     0.146128   \n",
       "chlorides                  0.293998          0.384112     0.035559   \n",
       "free_sulfur_dioxide       -0.271824         -0.352783     0.135849   \n",
       "total_sulfur_dioxide      -0.314398         -0.425713     0.205406   \n",
       "density                    0.446214          0.256741     0.105441   \n",
       "pH                        -0.252640          0.283168    -0.333025   \n",
       "sulphates                  0.310737          0.234166     0.049098   \n",
       "alcohol                   -0.084436         -0.026714    -0.027398   \n",
       "quality                   -0.069711         -0.246330     0.055514   \n",
       "wine_color                 0.478392          0.661024    -0.198476   \n",
       "quality_bin               -0.067072         -0.246090     0.052215   \n",
       "cluster                    0.048065         -0.013805     0.049355   \n",
       "\n",
       "                      residual_sugar  chlorides  free_sulfur_dioxide  \\\n",
       "fixed_acidity              -0.128035   0.293998            -0.271824   \n",
       "volatile_acidity           -0.213330   0.384112            -0.352783   \n",
       "citric_acid                 0.146128   0.035559             0.135849   \n",
       "residual_sugar              1.000000  -0.142692             0.420374   \n",
       "chlorides                  -0.142692   1.000000            -0.199992   \n",
       "free_sulfur_dioxide         0.420374  -0.199992             1.000000   \n",
       "total_sulfur_dioxide        0.504384  -0.293359             0.711356   \n",
       "density                     0.544305   0.371656             0.048482   \n",
       "pH                         -0.261960   0.067690            -0.149740   \n",
       "sulphates                  -0.198502   0.384857            -0.179912   \n",
       "alcohol                    -0.377224  -0.254699            -0.193783   \n",
       "quality                    -0.043652  -0.201719             0.047835   \n",
       "wine_color                 -0.357203   0.531045            -0.463981   \n",
       "quality_bin                -0.063735  -0.204673             0.023467   \n",
       "cluster                     0.301292   0.040625             0.082344   \n",
       "\n",
       "                      total_sulfur_dioxide   density        pH  sulphates  \\\n",
       "fixed_acidity                    -0.314398  0.446214 -0.252640   0.310737   \n",
       "volatile_acidity                 -0.425713  0.256741  0.283168   0.234166   \n",
       "citric_acid                       0.205406  0.105441 -0.333025   0.049098   \n",
       "residual_sugar                    0.504384  0.544305 -0.261960  -0.198502   \n",
       "chlorides                        -0.293359  0.371656  0.067690   0.384857   \n",
       "free_sulfur_dioxide               0.711356  0.048482 -0.149740  -0.179912   \n",
       "total_sulfur_dioxide              1.000000  0.049551 -0.237304  -0.264605   \n",
       "density                           0.049551  1.000000  0.023757   0.257178   \n",
       "pH                               -0.237304  0.023757  1.000000   0.196842   \n",
       "sulphates                        -0.264605  0.257178  0.196842   1.000000   \n",
       "alcohol                          -0.279152 -0.704385  0.118445   0.015332   \n",
       "quality                          -0.055353 -0.307800  0.016567   0.033206   \n",
       "wine_color                       -0.699040  0.392863  0.345808   0.493421   \n",
       "quality_bin                      -0.069985 -0.330298  0.021535   0.035477   \n",
       "cluster                           0.024220  0.266222 -0.063445   0.060310   \n",
       "\n",
       "                       alcohol   quality  wine_color  quality_bin   cluster  \n",
       "fixed_acidity        -0.084436 -0.069711    0.478392    -0.067072  0.048065  \n",
       "volatile_acidity     -0.026714 -0.246330    0.661024    -0.246090 -0.013805  \n",
       "citric_acid          -0.027398  0.055514   -0.198476     0.052215  0.049355  \n",
       "residual_sugar       -0.377224 -0.043652   -0.357203    -0.063735  0.301292  \n",
       "chlorides            -0.254699 -0.201719    0.531045    -0.204673  0.040625  \n",
       "free_sulfur_dioxide  -0.193783  0.047835   -0.463981     0.023467  0.082344  \n",
       "total_sulfur_dioxide -0.279152 -0.055353   -0.699040    -0.069985  0.024220  \n",
       "density              -0.704385 -0.307800    0.392863    -0.330298  0.266222  \n",
       "pH                    0.118445  0.016567    0.345808     0.021535 -0.063445  \n",
       "sulphates             0.015332  0.033206    0.493421     0.035477  0.060310  \n",
       "alcohol               1.000000  0.439978   -0.029291     0.464583 -0.171244  \n",
       "quality               0.439978  1.000000   -0.110920     0.950051 -0.021492  \n",
       "wine_color           -0.029291 -0.110920    1.000000    -0.119543  0.038798  \n",
       "quality_bin           0.464583  0.950051   -0.119543     1.000000 -0.021866  \n",
       "cluster              -0.171244 -0.021492    0.038798    -0.021866  1.000000  "
      ]
     },
     "execution_count": 198,
     "metadata": {},
     "output_type": "execute_result"
    }
   ],
   "source": [
    "train.corr()"
   ]
  },
  {
   "cell_type": "code",
   "execution_count": null,
   "id": "e177923b",
   "metadata": {},
   "outputs": [],
   "source": []
  },
  {
   "cell_type": "code",
   "execution_count": 18,
   "id": "fc704cb4-b22a-4a78-abdc-761541ad6901",
   "metadata": {
    "tags": []
   },
   "outputs": [
    {
     "data": {
      "text/plain": [
       "alcohol\n",
       "9.500000     199\n",
       "9.400000     187\n",
       "9.200000     147\n",
       "11.000000    139\n",
       "10.000000    137\n",
       "            ... \n",
       "13.566667      1\n",
       "11.750000      1\n",
       "10.933333      1\n",
       "12.066667      1\n",
       "12.250000      1\n",
       "Name: count, Length: 91, dtype: int64"
      ]
     },
     "execution_count": 18,
     "metadata": {},
     "output_type": "execute_result"
    }
   ],
   "source": [
    "train['alcohol'].value_counts()"
   ]
  },
  {
   "cell_type": "code",
   "execution_count": 19,
   "id": "f977b443-4356-49d9-a5c1-7a22e86e1337",
   "metadata": {
    "tags": []
   },
   "outputs": [
    {
     "data": {
      "text/html": [
       "<div>\n",
       "<style scoped>\n",
       "    .dataframe tbody tr th:only-of-type {\n",
       "        vertical-align: middle;\n",
       "    }\n",
       "\n",
       "    .dataframe tbody tr th {\n",
       "        vertical-align: top;\n",
       "    }\n",
       "\n",
       "    .dataframe thead th {\n",
       "        text-align: right;\n",
       "    }\n",
       "</style>\n",
       "<table border=\"1\" class=\"dataframe\">\n",
       "  <thead>\n",
       "    <tr style=\"text-align: right;\">\n",
       "      <th></th>\n",
       "      <th>fixed_acidity</th>\n",
       "      <th>volatile_acidity</th>\n",
       "      <th>citric_acid</th>\n",
       "      <th>residual_sugar</th>\n",
       "      <th>chlorides</th>\n",
       "      <th>free_sulfur_dioxide</th>\n",
       "      <th>total_sulfur_dioxide</th>\n",
       "      <th>density</th>\n",
       "      <th>pH</th>\n",
       "      <th>sulphates</th>\n",
       "      <th>alcohol</th>\n",
       "      <th>quality</th>\n",
       "      <th>wine_color</th>\n",
       "      <th>quality_bin</th>\n",
       "    </tr>\n",
       "  </thead>\n",
       "  <tbody>\n",
       "    <tr>\n",
       "      <th>2671</th>\n",
       "      <td>5.9</td>\n",
       "      <td>0.30</td>\n",
       "      <td>0.30</td>\n",
       "      <td>2.0</td>\n",
       "      <td>0.030</td>\n",
       "      <td>38.0</td>\n",
       "      <td>142.0</td>\n",
       "      <td>0.98892</td>\n",
       "      <td>3.41</td>\n",
       "      <td>0.41</td>\n",
       "      <td>12.9</td>\n",
       "      <td>7</td>\n",
       "      <td>0</td>\n",
       "      <td>high</td>\n",
       "    </tr>\n",
       "    <tr>\n",
       "      <th>4444</th>\n",
       "      <td>5.0</td>\n",
       "      <td>0.35</td>\n",
       "      <td>0.25</td>\n",
       "      <td>7.8</td>\n",
       "      <td>0.031</td>\n",
       "      <td>24.0</td>\n",
       "      <td>116.0</td>\n",
       "      <td>0.99241</td>\n",
       "      <td>3.39</td>\n",
       "      <td>0.40</td>\n",
       "      <td>11.3</td>\n",
       "      <td>6</td>\n",
       "      <td>0</td>\n",
       "      <td>mid</td>\n",
       "    </tr>\n",
       "    <tr>\n",
       "      <th>3604</th>\n",
       "      <td>7.4</td>\n",
       "      <td>0.36</td>\n",
       "      <td>0.23</td>\n",
       "      <td>1.9</td>\n",
       "      <td>0.017</td>\n",
       "      <td>31.0</td>\n",
       "      <td>69.0</td>\n",
       "      <td>0.98920</td>\n",
       "      <td>2.93</td>\n",
       "      <td>0.36</td>\n",
       "      <td>12.5</td>\n",
       "      <td>6</td>\n",
       "      <td>0</td>\n",
       "      <td>mid</td>\n",
       "    </tr>\n",
       "    <tr>\n",
       "      <th>2623</th>\n",
       "      <td>6.5</td>\n",
       "      <td>0.18</td>\n",
       "      <td>0.41</td>\n",
       "      <td>14.2</td>\n",
       "      <td>0.039</td>\n",
       "      <td>47.0</td>\n",
       "      <td>129.0</td>\n",
       "      <td>0.99678</td>\n",
       "      <td>3.28</td>\n",
       "      <td>0.72</td>\n",
       "      <td>10.3</td>\n",
       "      <td>7</td>\n",
       "      <td>0</td>\n",
       "      <td>high</td>\n",
       "    </tr>\n",
       "    <tr>\n",
       "      <th>1549</th>\n",
       "      <td>8.5</td>\n",
       "      <td>0.15</td>\n",
       "      <td>0.49</td>\n",
       "      <td>1.5</td>\n",
       "      <td>0.031</td>\n",
       "      <td>17.0</td>\n",
       "      <td>122.0</td>\n",
       "      <td>0.99320</td>\n",
       "      <td>3.03</td>\n",
       "      <td>0.40</td>\n",
       "      <td>10.3</td>\n",
       "      <td>6</td>\n",
       "      <td>0</td>\n",
       "      <td>mid</td>\n",
       "    </tr>\n",
       "    <tr>\n",
       "      <th>...</th>\n",
       "      <td>...</td>\n",
       "      <td>...</td>\n",
       "      <td>...</td>\n",
       "      <td>...</td>\n",
       "      <td>...</td>\n",
       "      <td>...</td>\n",
       "      <td>...</td>\n",
       "      <td>...</td>\n",
       "      <td>...</td>\n",
       "      <td>...</td>\n",
       "      <td>...</td>\n",
       "      <td>...</td>\n",
       "      <td>...</td>\n",
       "      <td>...</td>\n",
       "    </tr>\n",
       "    <tr>\n",
       "      <th>733</th>\n",
       "      <td>6.6</td>\n",
       "      <td>0.25</td>\n",
       "      <td>0.30</td>\n",
       "      <td>14.4</td>\n",
       "      <td>0.052</td>\n",
       "      <td>40.0</td>\n",
       "      <td>183.0</td>\n",
       "      <td>0.99800</td>\n",
       "      <td>3.02</td>\n",
       "      <td>0.50</td>\n",
       "      <td>9.1</td>\n",
       "      <td>6</td>\n",
       "      <td>0</td>\n",
       "      <td>mid</td>\n",
       "    </tr>\n",
       "    <tr>\n",
       "      <th>693</th>\n",
       "      <td>5.9</td>\n",
       "      <td>0.37</td>\n",
       "      <td>0.14</td>\n",
       "      <td>6.3</td>\n",
       "      <td>0.036</td>\n",
       "      <td>34.0</td>\n",
       "      <td>185.0</td>\n",
       "      <td>0.99440</td>\n",
       "      <td>3.17</td>\n",
       "      <td>0.63</td>\n",
       "      <td>9.8</td>\n",
       "      <td>5</td>\n",
       "      <td>0</td>\n",
       "      <td>low</td>\n",
       "    </tr>\n",
       "    <tr>\n",
       "      <th>1033</th>\n",
       "      <td>7.5</td>\n",
       "      <td>0.57</td>\n",
       "      <td>0.08</td>\n",
       "      <td>2.6</td>\n",
       "      <td>0.089</td>\n",
       "      <td>14.0</td>\n",
       "      <td>27.0</td>\n",
       "      <td>0.99592</td>\n",
       "      <td>3.30</td>\n",
       "      <td>0.59</td>\n",
       "      <td>10.4</td>\n",
       "      <td>6</td>\n",
       "      <td>1</td>\n",
       "      <td>mid</td>\n",
       "    </tr>\n",
       "    <tr>\n",
       "      <th>3582</th>\n",
       "      <td>6.3</td>\n",
       "      <td>0.32</td>\n",
       "      <td>0.32</td>\n",
       "      <td>1.5</td>\n",
       "      <td>0.037</td>\n",
       "      <td>12.0</td>\n",
       "      <td>76.0</td>\n",
       "      <td>0.98993</td>\n",
       "      <td>3.30</td>\n",
       "      <td>0.46</td>\n",
       "      <td>12.3</td>\n",
       "      <td>6</td>\n",
       "      <td>0</td>\n",
       "      <td>mid</td>\n",
       "    </tr>\n",
       "    <tr>\n",
       "      <th>3107</th>\n",
       "      <td>7.7</td>\n",
       "      <td>0.25</td>\n",
       "      <td>0.49</td>\n",
       "      <td>2.5</td>\n",
       "      <td>0.047</td>\n",
       "      <td>31.0</td>\n",
       "      <td>169.0</td>\n",
       "      <td>0.99252</td>\n",
       "      <td>3.07</td>\n",
       "      <td>0.57</td>\n",
       "      <td>10.6</td>\n",
       "      <td>6</td>\n",
       "      <td>0</td>\n",
       "      <td>mid</td>\n",
       "    </tr>\n",
       "  </tbody>\n",
       "</table>\n",
       "<p>3637 rows × 14 columns</p>\n",
       "</div>"
      ],
      "text/plain": [
       "      fixed_acidity  volatile_acidity  citric_acid  residual_sugar  chlorides  \\\n",
       "2671            5.9              0.30         0.30             2.0      0.030   \n",
       "4444            5.0              0.35         0.25             7.8      0.031   \n",
       "3604            7.4              0.36         0.23             1.9      0.017   \n",
       "2623            6.5              0.18         0.41            14.2      0.039   \n",
       "1549            8.5              0.15         0.49             1.5      0.031   \n",
       "...             ...               ...          ...             ...        ...   \n",
       "733             6.6              0.25         0.30            14.4      0.052   \n",
       "693             5.9              0.37         0.14             6.3      0.036   \n",
       "1033            7.5              0.57         0.08             2.6      0.089   \n",
       "3582            6.3              0.32         0.32             1.5      0.037   \n",
       "3107            7.7              0.25         0.49             2.5      0.047   \n",
       "\n",
       "      free_sulfur_dioxide  total_sulfur_dioxide  density    pH  sulphates  \\\n",
       "2671                 38.0                 142.0  0.98892  3.41       0.41   \n",
       "4444                 24.0                 116.0  0.99241  3.39       0.40   \n",
       "3604                 31.0                  69.0  0.98920  2.93       0.36   \n",
       "2623                 47.0                 129.0  0.99678  3.28       0.72   \n",
       "1549                 17.0                 122.0  0.99320  3.03       0.40   \n",
       "...                   ...                   ...      ...   ...        ...   \n",
       "733                  40.0                 183.0  0.99800  3.02       0.50   \n",
       "693                  34.0                 185.0  0.99440  3.17       0.63   \n",
       "1033                 14.0                  27.0  0.99592  3.30       0.59   \n",
       "3582                 12.0                  76.0  0.98993  3.30       0.46   \n",
       "3107                 31.0                 169.0  0.99252  3.07       0.57   \n",
       "\n",
       "      alcohol  quality  wine_color quality_bin  \n",
       "2671     12.9        7           0        high  \n",
       "4444     11.3        6           0         mid  \n",
       "3604     12.5        6           0         mid  \n",
       "2623     10.3        7           0        high  \n",
       "1549     10.3        6           0         mid  \n",
       "...       ...      ...         ...         ...  \n",
       "733       9.1        6           0         mid  \n",
       "693       9.8        5           0         low  \n",
       "1033     10.4        6           1         mid  \n",
       "3582     12.3        6           0         mid  \n",
       "3107     10.6        6           0         mid  \n",
       "\n",
       "[3637 rows x 14 columns]"
      ]
     },
     "execution_count": 19,
     "metadata": {},
     "output_type": "execute_result"
    }
   ],
   "source": [
    "train"
   ]
  },
  {
   "cell_type": "markdown",
   "id": "a5d34f10-9971-4e7c-a55c-74d469b6a3ca",
   "metadata": {},
   "source": [
    "Best Features:\n",
    "- Alcohol - \n",
    "- Free Sulfur Dioxide(SO$_2$): Antioxidating antimicrobial agent for preserving wine.\n",
    "- Citric Acid: Wine additive to increase acidity at the cost of microbial instability."
   ]
  },
  {
   "cell_type": "markdown",
   "id": "81444fab-e70b-4f07-a716-a2158d72df3a",
   "metadata": {},
   "source": [
    "Performing T-Test on training data\n",
    "\n",
    "\n",
    "H$_0$: Average alcohol in high quality wine (7,8,9) <= Average alcohol is low quality wine (3,4,5)\n",
    "\n",
    "H$_α$: Average alcohol in high quality wine (7,8,9) > Average alcohol in low quality wine (3,4,5)\n",
    "\n",
    "H$_0$: Average Free Sulfur Dioxide (SO$_2$) in high quality wine (7,8,9) <= Average Free Sulfur Dioxide (SO$_2$) in low quality wine (3,4,5)\n",
    "\n",
    "H$_α$: Average Free Sulfur Dioxide (SO$_2$) in high quality wine (7,8,9) > Average Free Sulfur Dioxide (SO$_2$) in low quality wine (3,4,5)\n",
    "\n",
    "H$_0$: Average Citric Acid in high quality wine (7,8,9) <= Average Citric Acid in low quality wine (3,4,5)\n",
    "\n",
    "H$_α$: Average Citric Acid in high quality wine (7,8,9) > Average Citric Acid in low quality wine (3,4,5)\n",
    "\n",
    "H$_0$: Average total sulfur dioxide in high quality wine (7,8,9) <= Average total sulfur dioxide in low quality wine (3,4,5)\n",
    "\n",
    "H$_α$: Average total sulfur dioxide in high quality wine (7,8,9) > Average total sulfur dioxide in low quality wine (3,4,5)\n",
    "\n",
    "H$_0$: Average Density in high quality wine (7,8,9) <= Average Density in low quality wine (3,4,5)\n",
    "\n",
    "H$_α$: Average Density in high quality wine (7,8,9) > Average Density in low quality wine (3,4,5)"
   ]
  },
  {
   "cell_type": "code",
   "execution_count": 20,
   "id": "eaba50ea-3065-476a-a8fa-eac6fb23a454",
   "metadata": {
    "tags": []
   },
   "outputs": [],
   "source": [
    "high_q = train[(train.quality == 7) | (train.quality == 8) | (train.quality == 9)]\n",
    "mid_q = train[train.quality == 6]\n",
    "low_q = train[(train.quality == 3) | (train.quality == 4) | (train.quality == 5)]"
   ]
  },
  {
   "cell_type": "code",
   "execution_count": 21,
   "id": "879fa0a1-319f-44d5-ae43-b0bd862abcf0",
   "metadata": {
    "tags": []
   },
   "outputs": [],
   "source": [
    "α = 0.05"
   ]
  },
  {
   "cell_type": "code",
   "execution_count": 22,
   "id": "7a1eab3e",
   "metadata": {},
   "outputs": [
    {
     "data": {
      "image/png": "[encoded data removed]",
      "text/plain": [
       "<Figure size 640x480 with 1 Axes>"
      ]
     },
     "metadata": {},
     "output_type": "display_data"
    }
   ],
   "source": [
    "sns.barplot(data=train, x='quality_bin', y=\"quality\")\n",
    "plt.title('Quality by bins')\n",
    "\n",
    "plt.show()"
   ]
  },
  {
   "cell_type": "code",
   "execution_count": 23,
   "id": "1245605a",
   "metadata": {},
   "outputs": [
    {
     "data": {
      "image/png": "[encoded data removed]",
      "text/plain": [
       "<Figure size 640x480 with 1 Axes>"
      ]
     },
     "metadata": {},
     "output_type": "display_data"
    }
   ],
   "source": [
    "sns.histplot(data=train, x=\"quality_bin\", hue=\"quality\", palette= 'tab10')\n",
    "plt.title('Distrobution of quality by bin')\n",
    "plt.show()"
   ]
  },
  {
   "cell_type": "code",
   "execution_count": 24,
   "id": "86b91a44-a6f1-4b75-90c8-6e5e33e03bde",
   "metadata": {
    "tags": []
   },
   "outputs": [
    {
     "name": "stdout",
     "output_type": "stream",
     "text": [
      "1.4841831805927261\n",
      "0.7529754527059171\n"
     ]
    }
   ],
   "source": [
    "print(high_q.alcohol.var())\n",
    "print(low_q.alcohol.var())"
   ]
  },
  {
   "cell_type": "code",
   "execution_count": 25,
   "id": "4fae04ef-79d1-4af7-9518-d3ff86904318",
   "metadata": {
    "tags": []
   },
   "outputs": [
    {
     "data": {
      "text/plain": [
       "(29.733530384497623, 2.0807651933674183e-143)"
      ]
     },
     "execution_count": 25,
     "metadata": {},
     "output_type": "execute_result"
    }
   ],
   "source": [
    "t, p = stats.ttest_ind(high_q.alcohol, low_q.alcohol, equal_var=False)\n",
    "t, p"
   ]
  },
  {
   "cell_type": "code",
   "execution_count": 26,
   "id": "17bdd1dd-f301-4128-8ee0-c4fc42b4d7c5",
   "metadata": {
    "tags": []
   },
   "outputs": [
    {
     "name": "stdout",
     "output_type": "stream",
     "text": [
      "We reject the null hypothesis\n"
     ]
    }
   ],
   "source": [
    "t, p = stats.ttest_ind(high_q.alcohol, low_q.alcohol, equal_var=False)\n",
    "t, p\n",
    "\n",
    "if p / 2 > α:\n",
    "    print(\"We fail to reject the null hypothesis\")\n",
    "elif t < 0:\n",
    "    print(\"We fail to reject the null hypothesis\")\n",
    "else:\n",
    "    print(\"We reject the null hypothesis\")"
   ]
  },
  {
   "cell_type": "markdown",
   "id": "48e21232",
   "metadata": {},
   "source": [
    "### H$_0$: Average Free Sulfur Dioxide (SO$_2$) in high quality wine (7,8,9) <= Average Free Sulfur Dioxide (SO$_2$) in low quality wine (3,4,5)"
   ]
  },
  {
   "cell_type": "code",
   "execution_count": 27,
   "id": "cac1751f",
   "metadata": {},
   "outputs": [
    {
     "data": {
      "image/png": "[encoded data removed]",
      "text/plain": [
       "<Figure size 640x480 with 1 Axes>"
      ]
     },
     "metadata": {},
     "output_type": "display_data"
    }
   ],
   "source": [
    "sns.barplot(data=train, x='quality_bin', y=\"free_sulfur_dioxide\")\n",
    "plt.title('Quality of free sulfur dioxide by bins')\n",
    "\n",
    "plt.show()"
   ]
  },
  {
   "cell_type": "code",
   "execution_count": 28,
   "id": "46177f15",
   "metadata": {},
   "outputs": [
    {
     "data": {
      "image/png": "[encoded data removed]",
      "text/plain": [
       "<Figure size 640x480 with 1 Axes>"
      ]
     },
     "metadata": {},
     "output_type": "display_data"
    }
   ],
   "source": [
    "sns.histplot(data=train, x=\"free_sulfur_dioxide\", hue=\"quality_bin\", palette= 'tab10')\n",
    "plt.title('Distrobution of quality by free sulfur dioxide')\n",
    "plt.show()"
   ]
  },
  {
   "cell_type": "code",
   "execution_count": 29,
   "id": "3cc8d660",
   "metadata": {},
   "outputs": [
    {
     "data": {
      "image/png": "[encoded data removed]",
      "text/plain": [
       "<Figure size 640x480 with 1 Axes>"
      ]
     },
     "metadata": {},
     "output_type": "display_data"
    }
   ],
   "source": [
    "sns.barplot(data=train, x='quality_bin', y=\"free_sulfur_dioxide\")\n",
    "plt.title('Quality of free sulfur dioxide by bins')\n",
    "\n",
    "plt.show()"
   ]
  },
  {
   "cell_type": "code",
   "execution_count": 30,
   "id": "6ab37db8-efbc-4044-b620-3ed2eb777934",
   "metadata": {
    "tags": []
   },
   "outputs": [
    {
     "name": "stdout",
     "output_type": "stream",
     "text": [
      "239.52184090419362\n",
      "372.2949998650337\n"
     ]
    }
   ],
   "source": [
    "print(high_q.free_sulfur_dioxide.var())\n",
    "print(low_q.free_sulfur_dioxide.var())"
   ]
  },
  {
   "cell_type": "code",
   "execution_count": 31,
   "id": "998989bb-d1a4-4ecf-a267-40ed5cf94aa4",
   "metadata": {
    "tags": []
   },
   "outputs": [
    {
     "data": {
      "text/plain": [
       "(1.2531826685656116, 0.21030674049832482)"
      ]
     },
     "execution_count": 31,
     "metadata": {},
     "output_type": "execute_result"
    }
   ],
   "source": [
    "t, p = stats.ttest_ind(high_q.free_sulfur_dioxide, low_q.free_sulfur_dioxide, equal_var=False)\n",
    "t, p"
   ]
  },
  {
   "cell_type": "code",
   "execution_count": 32,
   "id": "c8e2d28d-9e9f-411b-9924-fa2bb32ca509",
   "metadata": {
    "tags": []
   },
   "outputs": [
    {
     "name": "stdout",
     "output_type": "stream",
     "text": [
      "We fail to reject the null hypothesis\n"
     ]
    }
   ],
   "source": [
    "if p / 2 > α:\n",
    "    print(\"We fail to reject the null hypothesis\")\n",
    "elif t < 0:\n",
    "    print(\"We fail to reject the null hypothesis\")\n",
    "else:\n",
    "    print(\"We reject the null hypothesis\")"
   ]
  },
  {
   "cell_type": "code",
   "execution_count": 33,
   "id": "eaf238fd-6e2e-46b7-bc33-45d7b484e668",
   "metadata": {
    "tags": []
   },
   "outputs": [
    {
     "name": "stdout",
     "output_type": "stream",
     "text": [
      "16.610018530489118\n",
      "24.766635403228648\n"
     ]
    }
   ],
   "source": [
    "print(high_q.residual_sugar.var())\n",
    "print(low_q.residual_sugar.var())"
   ]
  },
  {
   "cell_type": "code",
   "execution_count": 34,
   "id": "aa595f38-43f7-4aba-ae36-1546f0a7af3f",
   "metadata": {
    "tags": []
   },
   "outputs": [
    {
     "data": {
      "text/plain": [
       "(-3.982521067832431, 7.057057307524727e-05)"
      ]
     },
     "execution_count": 34,
     "metadata": {},
     "output_type": "execute_result"
    }
   ],
   "source": [
    "t, p = stats.ttest_ind(high_q.residual_sugar, low_q.residual_sugar, equal_var=True)\n",
    "t, p"
   ]
  },
  {
   "cell_type": "code",
   "execution_count": 35,
   "id": "e721bc7b-9700-4691-988a-be1fbf839347",
   "metadata": {
    "tags": []
   },
   "outputs": [
    {
     "name": "stdout",
     "output_type": "stream",
     "text": [
      "We fail to reject the null hypothesis\n"
     ]
    }
   ],
   "source": [
    "if p / 2 > α:\n",
    "    print(\"We fail to reject the null hypothesis\")\n",
    "elif t < 0:\n",
    "    print(\"We fail to reject the null hypothesis\")\n",
    "else:\n",
    "    print(\"We reject the null hypothesis\")"
   ]
  },
  {
   "cell_type": "code",
   "execution_count": 36,
   "id": "9b000291-dbe7-4b1d-bb95-cefea6fc9b41",
   "metadata": {
    "tags": []
   },
   "outputs": [
    {
     "name": "stdout",
     "output_type": "stream",
     "text": [
      "0.011759810777457837\n",
      "0.02680053137347313\n"
     ]
    }
   ],
   "source": [
    "print(high_q.citric_acid.var())\n",
    "print(low_q.citric_acid.var())"
   ]
  },
  {
   "cell_type": "code",
   "execution_count": 37,
   "id": "0326e3f8-a796-4fa6-98a3-7f0f5924f48d",
   "metadata": {
    "tags": []
   },
   "outputs": [
    {
     "data": {
      "text/plain": [
       "(3.496899704305543, 0.00048119086301206035)"
      ]
     },
     "execution_count": 37,
     "metadata": {},
     "output_type": "execute_result"
    }
   ],
   "source": [
    "t, p = stats.ttest_ind(high_q.citric_acid, low_q.citric_acid, equal_var=False)\n",
    "t, p"
   ]
  },
  {
   "cell_type": "code",
   "execution_count": 38,
   "id": "895d7739-7915-45b1-9c1f-b9b6559647ac",
   "metadata": {
    "tags": []
   },
   "outputs": [
    {
     "name": "stdout",
     "output_type": "stream",
     "text": [
      "We reject the null hypothesis\n"
     ]
    }
   ],
   "source": [
    "if p / 2 > α:\n",
    "    print(\"We fail to reject the null hypothesis\")\n",
    "elif t < 0:\n",
    "    print(\"We fail to reject the null hypothesis\")\n",
    "else:\n",
    "    print(\"We reject the null hypothesis\")"
   ]
  },
  {
   "cell_type": "code",
   "execution_count": 39,
   "id": "0040331d-1aad-415a-94be-b7c64474a026",
   "metadata": {
    "tags": []
   },
   "outputs": [
    {
     "name": "stdout",
     "output_type": "stream",
     "text": [
      "2121.292915907622\n",
      "3745.155435738612\n"
     ]
    }
   ],
   "source": [
    "print(high_q.total_sulfur_dioxide.var())\n",
    "print(low_q.total_sulfur_dioxide.var())"
   ]
  },
  {
   "cell_type": "code",
   "execution_count": 40,
   "id": "f142acbc-7d33-43e2-821a-04256e3eebac",
   "metadata": {
    "tags": []
   },
   "outputs": [
    {
     "data": {
      "text/plain": [
       "(-4.426939302693649, 1.0122561160170986e-05)"
      ]
     },
     "execution_count": 40,
     "metadata": {},
     "output_type": "execute_result"
    }
   ],
   "source": [
    "t, p = stats.ttest_ind(high_q.total_sulfur_dioxide, low_q.total_sulfur_dioxide, equal_var=False)\n",
    "t, p"
   ]
  },
  {
   "cell_type": "code",
   "execution_count": 41,
   "id": "09389dbf-a7e6-4810-8972-336016989983",
   "metadata": {
    "tags": []
   },
   "outputs": [
    {
     "name": "stdout",
     "output_type": "stream",
     "text": [
      "We fail to reject the null hypothesis\n"
     ]
    }
   ],
   "source": [
    "if p / 2 > α:\n",
    "    print(\"We fail to reject the null hypothesis\")\n",
    "elif t < 0:\n",
    "    print(\"We fail to reject the null hypothesis\")\n",
    "else:\n",
    "    print(\"We reject the null hypothesis\")"
   ]
  },
  {
   "cell_type": "code",
   "execution_count": 42,
   "id": "fe44a9c4-5035-4d87-990d-1dd50f8451b0",
   "metadata": {
    "tags": []
   },
   "outputs": [
    {
     "name": "stdout",
     "output_type": "stream",
     "text": [
      "8.760926133866126e-06\n",
      "6.247308860268878e-06\n"
     ]
    }
   ],
   "source": [
    "print(high_q.density.var())\n",
    "print(low_q.density.var())"
   ]
  },
  {
   "cell_type": "code",
   "execution_count": 43,
   "id": "9ad1eeb7-5da3-4fde-9b7e-08b243a6043c",
   "metadata": {
    "tags": []
   },
   "outputs": [
    {
     "data": {
      "text/plain": [
       "(-20.615532689369665, 1.209526454933893e-81)"
      ]
     },
     "execution_count": 43,
     "metadata": {},
     "output_type": "execute_result"
    }
   ],
   "source": [
    "t, p = stats.ttest_ind(high_q.density, low_q.density, equal_var=False)\n",
    "t, p"
   ]
  },
  {
   "cell_type": "code",
   "execution_count": 44,
   "id": "70788f1c-83d0-49d2-a5d1-8f5bdf602bc3",
   "metadata": {
    "tags": []
   },
   "outputs": [
    {
     "name": "stdout",
     "output_type": "stream",
     "text": [
      "We fail to reject the null hypothesis\n"
     ]
    }
   ],
   "source": [
    "t, p = stats.ttest_ind(high_q.density, low_q.density, equal_var=False)\n",
    "t, p\n",
    "\n",
    "if p / 2 > α:\n",
    "    print(\"We fail to reject the null hypothesis\")\n",
    "elif t < 0:\n",
    "    print(\"We fail to reject the null hypothesis\")\n",
    "else:\n",
    "    print(\"We reject the null hypothesis\")"
   ]
  },
  {
   "cell_type": "code",
   "execution_count": 45,
   "id": "0c6625c3-e840-440c-ab4b-83fb1b349976",
   "metadata": {
    "tags": []
   },
   "outputs": [
    {
     "data": {
      "text/html": [
       "<div>\n",
       "<style scoped>\n",
       "    .dataframe tbody tr th:only-of-type {\n",
       "        vertical-align: middle;\n",
       "    }\n",
       "\n",
       "    .dataframe tbody tr th {\n",
       "        vertical-align: top;\n",
       "    }\n",
       "\n",
       "    .dataframe thead th {\n",
       "        text-align: right;\n",
       "    }\n",
       "</style>\n",
       "<table border=\"1\" class=\"dataframe\">\n",
       "  <thead>\n",
       "    <tr style=\"text-align: right;\">\n",
       "      <th></th>\n",
       "      <th>fixed_acidity</th>\n",
       "      <th>volatile_acidity</th>\n",
       "      <th>citric_acid</th>\n",
       "      <th>residual_sugar</th>\n",
       "      <th>chlorides</th>\n",
       "      <th>free_sulfur_dioxide</th>\n",
       "      <th>total_sulfur_dioxide</th>\n",
       "      <th>density</th>\n",
       "      <th>pH</th>\n",
       "      <th>sulphates</th>\n",
       "      <th>alcohol</th>\n",
       "      <th>quality</th>\n",
       "      <th>wine_color</th>\n",
       "      <th>quality_bin</th>\n",
       "    </tr>\n",
       "  </thead>\n",
       "  <tbody>\n",
       "    <tr>\n",
       "      <th>4788</th>\n",
       "      <td>6.4</td>\n",
       "      <td>0.31</td>\n",
       "      <td>0.31</td>\n",
       "      <td>12.9</td>\n",
       "      <td>0.045</td>\n",
       "      <td>55.0</td>\n",
       "      <td>161.0</td>\n",
       "      <td>0.99546</td>\n",
       "      <td>3.02</td>\n",
       "      <td>0.59</td>\n",
       "      <td>10.2</td>\n",
       "      <td>5</td>\n",
       "      <td>0</td>\n",
       "      <td>0</td>\n",
       "    </tr>\n",
       "    <tr>\n",
       "      <th>2241</th>\n",
       "      <td>7.1</td>\n",
       "      <td>0.28</td>\n",
       "      <td>0.19</td>\n",
       "      <td>7.8</td>\n",
       "      <td>0.040</td>\n",
       "      <td>48.0</td>\n",
       "      <td>184.0</td>\n",
       "      <td>0.99579</td>\n",
       "      <td>3.16</td>\n",
       "      <td>0.50</td>\n",
       "      <td>9.4</td>\n",
       "      <td>5</td>\n",
       "      <td>0</td>\n",
       "      <td>0</td>\n",
       "    </tr>\n",
       "    <tr>\n",
       "      <th>3434</th>\n",
       "      <td>8.2</td>\n",
       "      <td>0.34</td>\n",
       "      <td>0.29</td>\n",
       "      <td>5.2</td>\n",
       "      <td>0.076</td>\n",
       "      <td>19.0</td>\n",
       "      <td>92.0</td>\n",
       "      <td>0.99138</td>\n",
       "      <td>2.95</td>\n",
       "      <td>0.39</td>\n",
       "      <td>12.5</td>\n",
       "      <td>6</td>\n",
       "      <td>0</td>\n",
       "      <td>1</td>\n",
       "    </tr>\n",
       "    <tr>\n",
       "      <th>698</th>\n",
       "      <td>7.5</td>\n",
       "      <td>0.31</td>\n",
       "      <td>0.51</td>\n",
       "      <td>14.8</td>\n",
       "      <td>0.039</td>\n",
       "      <td>62.0</td>\n",
       "      <td>204.0</td>\n",
       "      <td>0.99820</td>\n",
       "      <td>3.06</td>\n",
       "      <td>0.60</td>\n",
       "      <td>9.5</td>\n",
       "      <td>5</td>\n",
       "      <td>0</td>\n",
       "      <td>0</td>\n",
       "    </tr>\n",
       "    <tr>\n",
       "      <th>1293</th>\n",
       "      <td>6.9</td>\n",
       "      <td>0.39</td>\n",
       "      <td>0.22</td>\n",
       "      <td>4.3</td>\n",
       "      <td>0.030</td>\n",
       "      <td>10.0</td>\n",
       "      <td>102.0</td>\n",
       "      <td>0.99300</td>\n",
       "      <td>3.00</td>\n",
       "      <td>0.87</td>\n",
       "      <td>11.6</td>\n",
       "      <td>4</td>\n",
       "      <td>0</td>\n",
       "      <td>0</td>\n",
       "    </tr>\n",
       "  </tbody>\n",
       "</table>\n",
       "</div>"
      ],
      "text/plain": [
       "      fixed_acidity  volatile_acidity  citric_acid  residual_sugar  chlorides  \\\n",
       "4788            6.4              0.31         0.31            12.9      0.045   \n",
       "2241            7.1              0.28         0.19             7.8      0.040   \n",
       "3434            8.2              0.34         0.29             5.2      0.076   \n",
       "698             7.5              0.31         0.51            14.8      0.039   \n",
       "1293            6.9              0.39         0.22             4.3      0.030   \n",
       "\n",
       "      free_sulfur_dioxide  total_sulfur_dioxide  density    pH  sulphates  \\\n",
       "4788                 55.0                 161.0  0.99546  3.02       0.59   \n",
       "2241                 48.0                 184.0  0.99579  3.16       0.50   \n",
       "3434                 19.0                  92.0  0.99138  2.95       0.39   \n",
       "698                  62.0                 204.0  0.99820  3.06       0.60   \n",
       "1293                 10.0                 102.0  0.99300  3.00       0.87   \n",
       "\n",
       "      alcohol  quality  wine_color  quality_bin  \n",
       "4788     10.2        5           0            0  \n",
       "2241      9.4        5           0            0  \n",
       "3434     12.5        6           0            1  \n",
       "698       9.5        5           0            0  \n",
       "1293     11.6        4           0            0  "
      ]
     },
     "execution_count": 45,
     "metadata": {},
     "output_type": "execute_result"
    }
   ],
   "source": [
    "train['quality_bin'] = train['quality_bin'].map({'high':2, 'mid':1, 'low':0})\n",
    "train.sample(5)"
   ]
  },
  {
   "cell_type": "markdown",
   "id": "961741de",
   "metadata": {},
   "source": [
    "# Clusters"
   ]
  },
  {
   "cell_type": "code",
   "execution_count": 46,
   "id": "68203c0b-5c43-48b0-a10e-651c838501ce",
   "metadata": {
    "tags": []
   },
   "outputs": [
    {
     "data": {
      "image/png": "[encoded data removed]",
      "text/plain": [
       "<Figure size 1000x500 with 1 Axes>"
      ]
     },
     "metadata": {},
     "output_type": "display_data"
    }
   ],
   "source": [
    "with plt.style.context('seaborn-whitegrid'):\n",
    "    plt.figure(figsize=(10,5))\n",
    "    pd.Series({k: KMeans(k).fit(train).inertia_ for k in range(2, 10)}).plot(marker='x')\n",
    "    plt.xticks(range(2, 10))\n",
    "    plt.xlabel('k')\n",
    "    plt.ylabel('inertia')\n",
    "    plt.show()"
   ]
  },
  {
   "cell_type": "code",
   "execution_count": 48,
   "id": "1ad0d1da-cf77-4c8f-bc68-0d2e0d62d638",
   "metadata": {
    "tags": []
   },
   "outputs": [],
   "source": [
    "validate['quality_bin'] = validate['quality_bin'].map({'high':2, 'mid':1, 'low':0})\n",
    "test['quality_bin'] = test['quality_bin'].map({'high':2, 'mid':1, 'low':0})"
   ]
  },
  {
   "cell_type": "code",
   "execution_count": 123,
   "id": "cfaa7ccf",
   "metadata": {},
   "outputs": [],
   "source": [
    "X = train[['alcohol', 'residual_sugar', 'density']]\n",
    "X_val = validate[['alcohol', 'residual_sugar', 'density']]\n",
    "X_test = test[['alcohol', 'residual_sugar', 'density']]\n",
    "\n",
    "\n",
    "km = KMeans(n_clusters=3)\n",
    "km.fit(X)\n",
    "\n",
    "train['cluster'] = km.predict(X)\n",
    "validate['cluster'] = km.predict(X_val)\n",
    "test['cluster'] = km.predict(X_test)\n"
   ]
  },
  {
   "cell_type": "markdown",
   "id": "f49f88b1",
   "metadata": {},
   "source": [
    "# Features"
   ]
  },
  {
   "cell_type": "code",
   "execution_count": 172,
   "id": "bcc2bf26-8937-490a-a728-7d4b45209fda",
   "metadata": {
    "tags": []
   },
   "outputs": [],
   "source": [
    "X_train1 = train.drop(columns=['fixed_acidity', 'volatile_acidity', 'citric_acid',\n",
    "       'chlorides', 'free_sulfur_dioxide', 'total_sulfur_dioxide',\n",
    "       'pH', 'sulphates', 'quality', 'wine_color', 'quality_bin', 'cluster'])\n",
    "y_train1 = train.quality_bin\n",
    "\n",
    "X_validate1 = validate.drop(columns=['fixed_acidity', 'volatile_acidity', 'citric_acid',\n",
    "       'chlorides', 'free_sulfur_dioxide', 'total_sulfur_dioxide',\n",
    "       'pH', 'sulphates', 'quality', 'wine_color', 'quality_bin', 'cluster'])\n",
    "y_validate1 = validate.quality_bin\n",
    "\n",
    "X_test1 = test.drop(columns=['fixed_acidity', 'volatile_acidity', 'citric_acid',\n",
    "       'chlorides', 'free_sulfur_dioxide', 'total_sulfur_dioxide',\n",
    "       'pH', 'sulphates', 'quality', 'wine_color', 'quality_bin', 'cluster'])\n",
    "y_test1 = test.quality_bin"
   ]
  },
  {
   "cell_type": "code",
   "execution_count": 199,
   "id": "f01f52dd",
   "metadata": {},
   "outputs": [],
   "source": [
    "X_train2 = train.drop(columns=['fixed_acidity', 'volatile_acidity', 'citric_acid',\n",
    "       'chlorides', 'free_sulfur_dioxide', 'total_sulfur_dioxide',\n",
    "       'pH', 'sulphates', 'quality', 'wine_color', 'quality_bin'])\n",
    "y_train2 = train.quality_bin\n",
    "\n",
    "X_validate2 = validate.drop(columns=['fixed_acidity', 'volatile_acidity', 'citric_acid',\n",
    "       'chlorides', 'free_sulfur_dioxide', 'total_sulfur_dioxide',\n",
    "       'pH', 'sulphates', 'quality', 'wine_color', 'quality_bin'])\n",
    "y_validate2 = validate.quality_bin\n",
    "\n",
    "X_test2 = test.drop(columns=['fixed_acidity', 'volatile_acidity', 'citric_acid',\n",
    "       'chlorides', 'free_sulfur_dioxide', 'total_sulfur_dioxide',\n",
    "       'pH', 'sulphates', 'quality', 'wine_color', 'quality_bin'])\n",
    "y_test2 = test.quality_bin"
   ]
  },
  {
   "cell_type": "markdown",
   "id": "8e32fcff",
   "metadata": {},
   "source": [
    "# Baseline"
   ]
  },
  {
   "cell_type": "code",
   "execution_count": null,
   "id": "c43c1e9b",
   "metadata": {},
   "outputs": [],
   "source": [
    "baseline_accuracy = (train['quality_bin'].value_counts().idxmax() == train.quality_bin).mean()\n",
    "\n",
    "baseline_accuracy"
   ]
  },
  {
   "cell_type": "markdown",
   "id": "31ccc209-fbf4-4238-bc54-ccb8dff200b6",
   "metadata": {},
   "source": [
    "## Decision Tree Before cluster"
   ]
  },
  {
   "cell_type": "code",
   "execution_count": 173,
   "id": "e261626c-6b17-4cb9-bd7d-26049104496b",
   "metadata": {
    "tags": []
   },
   "outputs": [
    {
     "data": {
      "image/png": "[encoded data removed]",
      "text/plain": [
       "<Figure size 640x480 with 1 Axes>"
      ]
     },
     "metadata": {},
     "output_type": "display_data"
    }
   ],
   "source": [
    "k_range = range(1,20)\n",
    "train_score = []\n",
    "validate_score = []\n",
    "for k in k_range:\n",
    "    clf = DecisionTreeClassifier(max_depth=k, random_state=117)\n",
    "    clf.fit(X_train1, y_train1)\n",
    "    train_score.append(clf.score(X_train1, y_train1))\n",
    "    validate_score.append(clf.score(X_validate1, y_validate1))\n",
    "plt.figure()\n",
    "plt.xlabel('k')\n",
    "plt.ylabel('accuracy')\n",
    "plt.plot(k_range, train_score, label = 'Train')\n",
    "plt.plot(k_range, validate_score, label = 'Validate')\n",
    "plt.legend()\n",
    "plt.show()"
   ]
  },
  {
   "cell_type": "code",
   "execution_count": 174,
   "id": "751f91da-a21f-4b6e-8c30-106fae8d7f7e",
   "metadata": {
    "tags": []
   },
   "outputs": [],
   "source": [
    "clf = DecisionTreeClassifier(max_depth=6, random_state=117)\n",
    "clf.fit(X_train1, y_train1)\n",
    "dt_tr_acc = clf.score(X_train1, y_train1)\n",
    "dt_val_acc = clf.score(X_validate1, y_validate1)"
   ]
  },
  {
   "cell_type": "code",
   "execution_count": 176,
   "id": "6e7faac7-26cd-494f-8800-f818e1dee299",
   "metadata": {
    "tags": []
   },
   "outputs": [
    {
     "name": "stdout",
     "output_type": "stream",
     "text": [
      "Ideal Decision Tree Accuracy Scores:\n",
      "\n",
      "Training Accuracy:\n",
      "58.564751%\n",
      "\n",
      "Validation Accuracy:\n",
      "54.522130%\n",
      "\n",
      "Baseline Accuracy:\n",
      "43.662359%\n"
     ]
    }
   ],
   "source": [
    "print(f'Ideal Decision Tree Accuracy Scores:\\n\\n\\\n",
    "Training Accuracy:\\n{dt_tr_acc:2%}\\n\\n\\\n",
    "Validation Accuracy:\\n{dt_val_acc:2%}\\n\\n\\\n",
    "Baseline Accuracy:\\n{baseline_accuracy:2%}')"
   ]
  },
  {
   "cell_type": "markdown",
   "id": "9c3534be",
   "metadata": {},
   "source": [
    "## Decision Tree after cluster"
   ]
  },
  {
   "cell_type": "code",
   "execution_count": 200,
   "id": "ff081eeb",
   "metadata": {},
   "outputs": [
    {
     "data": {
      "image/png": "[encoded data removed]",
      "text/plain": [
       "<Figure size 640x480 with 1 Axes>"
      ]
     },
     "metadata": {},
     "output_type": "display_data"
    }
   ],
   "source": [
    "k_range = range(1,20)\n",
    "train_score = []\n",
    "validate_score = []\n",
    "for k in k_range:\n",
    "    clf = DecisionTreeClassifier(max_depth=k, random_state=117)\n",
    "    clf.fit(X_train2, y_train2)\n",
    "    train_score.append(clf.score(X_train2, y_train2))\n",
    "    validate_score.append(clf.score(X_validate2, y_validate2))\n",
    "plt.figure()\n",
    "plt.xlabel('k')\n",
    "plt.ylabel('accuracy')\n",
    "plt.plot(k_range, train_score, label = 'Train')\n",
    "plt.plot(k_range, validate_score, label = 'Validate')\n",
    "plt.legend()\n",
    "plt.show()"
   ]
  },
  {
   "cell_type": "code",
   "execution_count": 201,
   "id": "5c10e282",
   "metadata": {},
   "outputs": [],
   "source": [
    "clf = DecisionTreeClassifier(max_depth=6, random_state=117)\n",
    "clf.fit(X_train2, y_train2)\n",
    "dt_tr_acc = clf.score(X_train2, y_train2)\n",
    "dt_val_acc = clf.score(X_validate2, y_validate2)"
   ]
  },
  {
   "cell_type": "code",
   "execution_count": 202,
   "id": "c206fc62",
   "metadata": {},
   "outputs": [
    {
     "name": "stdout",
     "output_type": "stream",
     "text": [
      "Ideal Decision Tree Accuracy Scores:\n",
      "\n",
      "Training Accuracy:\n",
      "58.564751%\n",
      "\n",
      "Validation Accuracy:\n",
      "54.522130%\n",
      "\n",
      "Baseline Accuracy:\n",
      "43.662359%\n"
     ]
    }
   ],
   "source": [
    "print(f'Ideal Decision Tree Accuracy Scores:\\n\\n\\\n",
    "Training Accuracy:\\n{dt_tr_acc:2%}\\n\\n\\\n",
    "Validation Accuracy:\\n{dt_val_acc:2%}\\n\\n\\\n",
    "Baseline Accuracy:\\n{baseline_accuracy:2%}')"
   ]
  },
  {
   "cell_type": "markdown",
   "id": "f4d46b61-7e46-479d-99ab-1829ef75d865",
   "metadata": {},
   "source": [
    "## Random Forest before cluster"
   ]
  },
  {
   "cell_type": "code",
   "execution_count": 177,
   "id": "a741d8ea-fb85-4f83-953b-e7f8b505b843",
   "metadata": {
    "tags": []
   },
   "outputs": [
    {
     "data": {
      "image/png": "[encoded data removed]",
      "text/plain": [
       "<Figure size 640x480 with 1 Axes>"
      ]
     },
     "metadata": {},
     "output_type": "display_data"
    }
   ],
   "source": [
    "k_range = range(1,20)\n",
    "train_score = []\n",
    "validate_score = []\n",
    "for k in k_range:\n",
    "    rf = RandomForestClassifier(max_depth = k, random_state=117)\n",
    "    rf.fit(X_train1, y_train1)\n",
    "    train_score.append(rf.score(X_train1, y_train1))\n",
    "    validate_score.append(rf.score(X_validate1, y_validate1))\n",
    "plt.figure()\n",
    "plt.xlabel('k')\n",
    "plt.ylabel('accuracy')\n",
    "plt.plot(k_range, train_score, label = 'Train', marker='h')\n",
    "plt.plot(k_range, validate_score, label = 'Validate', marker='h')\n",
    "plt.legend()\n",
    "plt.show()"
   ]
  },
  {
   "cell_type": "code",
   "execution_count": 178,
   "id": "f6526f94-19aa-4238-8028-484657b2afce",
   "metadata": {
    "tags": []
   },
   "outputs": [],
   "source": [
    "rf = KNeighborsClassifier(n_neighbors=6)\n",
    "rf.fit(X_train1, y_train1)\n",
    "rf_tr_acc = rf.score(X_train1,y_train1)\n",
    "rf_val_acc = rf.score(X_validate1, y_validate1)"
   ]
  },
  {
   "cell_type": "code",
   "execution_count": 179,
   "id": "09265af2-3298-4748-8576-0f15654034a9",
   "metadata": {
    "tags": []
   },
   "outputs": [
    {
     "name": "stdout",
     "output_type": "stream",
     "text": [
      "Ideal Random Forest Accuracy Scores:\n",
      "\n",
      "Training Accuracy:\n",
      "66.373385%\n",
      "\n",
      "Validation Accuracy:\n",
      "53.303400%\n",
      "\n",
      "Baseline Accuracy:\n",
      "43.662359%\n"
     ]
    }
   ],
   "source": [
    "print(f'Ideal Random Forest Accuracy Scores:\\n\\n\\\n",
    "Training Accuracy:\\n{rf_tr_acc:2%}\\n\\n\\\n",
    "Validation Accuracy:\\n{rf_val_acc:2%}\\n\\n\\\n",
    "Baseline Accuracy:\\n{baseline_accuracy:2%}')"
   ]
  },
  {
   "cell_type": "markdown",
   "id": "c30f38c2",
   "metadata": {},
   "source": [
    "## Random Forest after cluster"
   ]
  },
  {
   "cell_type": "code",
   "execution_count": 205,
   "id": "cdc29190",
   "metadata": {},
   "outputs": [],
   "source": [
    "rf = KNeighborsClassifier(n_neighbors=6)\n",
    "rf.fit(X_train2, y_train2)\n",
    "rf_tr_acc = rf.score(X_train2,y_train2)\n",
    "rf_val_acc = rf.score(X_validate2, y_validate2)"
   ]
  },
  {
   "cell_type": "code",
   "execution_count": 203,
   "id": "27231b53",
   "metadata": {},
   "outputs": [
    {
     "data": {
      "image/png": "[encoded data removed]",
      "text/plain": [
       "<Figure size 640x480 with 1 Axes>"
      ]
     },
     "metadata": {},
     "output_type": "display_data"
    }
   ],
   "source": [
    "k_range = range(1,20)\n",
    "train_score = []\n",
    "validate_score = []\n",
    "for k in k_range:\n",
    "    rf = RandomForestClassifier(max_depth = k, random_state=117)\n",
    "    rf.fit(X_train2, y_train2)\n",
    "    train_score.append(rf.score(X_train2, y_train2))\n",
    "    validate_score.append(rf.score(X_validate2, y_validate2))\n",
    "plt.figure()\n",
    "plt.xlabel('k')\n",
    "plt.ylabel('accuracy')\n",
    "plt.plot(k_range, train_score, label = 'Train', marker='h')\n",
    "plt.plot(k_range, validate_score, label = 'Validate', marker='h')\n",
    "plt.legend()\n",
    "plt.show()"
   ]
  },
  {
   "cell_type": "code",
   "execution_count": 206,
   "id": "c683456e",
   "metadata": {},
   "outputs": [
    {
     "name": "stdout",
     "output_type": "stream",
     "text": [
      "Ideal Random Forest Accuracy Scores:\n",
      "\n",
      "Training Accuracy:\n",
      "66.510861%\n",
      "\n",
      "Validation Accuracy:\n",
      "53.367543%\n",
      "\n",
      "Baseline Accuracy:\n",
      "43.662359%\n"
     ]
    }
   ],
   "source": [
    "print(f'Ideal Random Forest Accuracy Scores:\\n\\n\\\n",
    "Training Accuracy:\\n{rf_tr_acc:2%}\\n\\n\\\n",
    "Validation Accuracy:\\n{rf_val_acc:2%}\\n\\n\\\n",
    "Baseline Accuracy:\\n{baseline_accuracy:2%}')"
   ]
  },
  {
   "cell_type": "markdown",
   "id": "2db93417-7ffd-491c-bebf-26486edbd97f",
   "metadata": {},
   "source": [
    "## KNearest Neighbor before cluster"
   ]
  },
  {
   "cell_type": "code",
   "execution_count": 180,
   "id": "d242cd13-faf8-4020-9010-927fffc5d65b",
   "metadata": {
    "tags": []
   },
   "outputs": [
    {
     "data": {
      "image/png": "[encoded data removed]",
      "text/plain": [
       "<Figure size 640x480 with 1 Axes>"
      ]
     },
     "metadata": {},
     "output_type": "display_data"
    }
   ],
   "source": [
    "k_range = range(1,20)\n",
    "train_score = []\n",
    "validate_score = []\n",
    "for k in k_range:\n",
    "    knn = KNeighborsClassifier(n_neighbors = k)\n",
    "    knn.fit(X_train1, y_train1)\n",
    "    train_score.append(knn.score(X_train1, y_train1))\n",
    "    validate_score.append(knn.score(X_validate1, y_validate1))\n",
    "plt.figure()\n",
    "plt.xlabel('k')\n",
    "plt.ylabel('accuracy')\n",
    "plt.plot(k_range, train_score, label = 'Train')\n",
    "plt.plot(k_range, validate_score, label = 'Validate')\n",
    "plt.legend()\n",
    "plt.show()"
   ]
  },
  {
   "cell_type": "code",
   "execution_count": 181,
   "id": "91cb6beb-e310-483c-8c20-22c73c1c5c62",
   "metadata": {
    "tags": []
   },
   "outputs": [],
   "source": [
    "knn1 = KNeighborsClassifier(n_neighbors=8)\n",
    "knn1.fit(X_train1, y_train1)\n",
    "knn_tr_acc = knn1.score(X_train1,y_train1)\n",
    "knn_val_acc = knn1.score(X_validate1, y_validate1)"
   ]
  },
  {
   "cell_type": "code",
   "execution_count": 182,
   "id": "395de84a-f5bf-4d09-96b8-7516847dbf44",
   "metadata": {
    "tags": []
   },
   "outputs": [
    {
     "name": "stdout",
     "output_type": "stream",
     "text": [
      "Ideal KNearest Neighbor Accuracy Scores:\n",
      "\n",
      "Training Accuracy:\n",
      "63.843827%\n",
      "\n",
      "Validation Accuracy:\n",
      "52.597819%\n",
      "\n",
      "Baseline Accuracy:\n",
      "43.662359%\n"
     ]
    }
   ],
   "source": [
    "print(f'Ideal KNearest Neighbor Accuracy Scores:\\n\\n\\\n",
    "Training Accuracy:\\n{knn_tr_acc:2%}\\n\\n\\\n",
    "Validation Accuracy:\\n{knn_val_acc:2%}\\n\\n\\\n",
    "Baseline Accuracy:\\n{baseline_accuracy:2%}')"
   ]
  },
  {
   "cell_type": "markdown",
   "id": "1d197acd",
   "metadata": {},
   "source": [
    "## KNearest Neighbor after cluster"
   ]
  },
  {
   "cell_type": "code",
   "execution_count": 207,
   "id": "9e94fdb6",
   "metadata": {},
   "outputs": [
    {
     "data": {
      "image/png": "[encoded data removed]",
      "text/plain": [
       "<Figure size 640x480 with 1 Axes>"
      ]
     },
     "metadata": {},
     "output_type": "display_data"
    }
   ],
   "source": [
    "k_range = range(1,20)\n",
    "train_score = []\n",
    "validate_score = []\n",
    "for k in k_range:\n",
    "    knn = KNeighborsClassifier(n_neighbors = k)\n",
    "    knn.fit(X_train2, y_train2)\n",
    "    train_score.append(knn.score(X_train2, y_train2))\n",
    "    validate_score.append(knn.score(X_validate2, y_validate2))\n",
    "plt.figure()\n",
    "plt.xlabel('k')\n",
    "plt.ylabel('accuracy')\n",
    "plt.plot(k_range, train_score, label = 'Train')\n",
    "plt.plot(k_range, validate_score, label = 'Validate')\n",
    "plt.legend()\n",
    "plt.show()"
   ]
  },
  {
   "cell_type": "code",
   "execution_count": 208,
   "id": "c8cf7b4d",
   "metadata": {},
   "outputs": [],
   "source": [
    "knn1 = KNeighborsClassifier(n_neighbors=8)\n",
    "knn1.fit(X_train2, y_train2)\n",
    "knn_tr_acc = knn1.score(X_train2,y_train2)\n",
    "knn_val_acc = knn1.score(X_validate2, y_validate2)"
   ]
  },
  {
   "cell_type": "code",
   "execution_count": 209,
   "id": "ed82f985",
   "metadata": {},
   "outputs": [
    {
     "name": "stdout",
     "output_type": "stream",
     "text": [
      "Ideal KNearest Neighbor Accuracy Scores:\n",
      "\n",
      "Training Accuracy:\n",
      "63.816332%\n",
      "\n",
      "Validation Accuracy:\n",
      "52.533675%\n",
      "\n",
      "Baseline Accuracy:\n",
      "43.662359%\n"
     ]
    }
   ],
   "source": [
    "print(f'Ideal KNearest Neighbor Accuracy Scores:\\n\\n\\\n",
    "Training Accuracy:\\n{knn_tr_acc:2%}\\n\\n\\\n",
    "Validation Accuracy:\\n{knn_val_acc:2%}\\n\\n\\\n",
    "Baseline Accuracy:\\n{baseline_accuracy:2%}')"
   ]
  },
  {
   "cell_type": "markdown",
   "id": "7606e3af-65dc-46f8-8fd4-168fb967deee",
   "metadata": {},
   "source": [
    "## Logistic Regression before and after cluster"
   ]
  },
  {
   "cell_type": "code",
   "execution_count": 210,
   "id": "0e6ebdad-60e7-4ff4-8198-b0eaf326482c",
   "metadata": {
    "tags": []
   },
   "outputs": [
    {
     "name": "stdout",
     "output_type": "stream",
     "text": [
      "Logistic Regression Model Accuracy Scores:\n",
      "\n",
      "Baseline Accuracy Score:\n",
      "43.662359%\n",
      "\n",
      "Model χx Train Accuracy Score:\n",
      "53.890569%\n",
      "Model χx Validate Accuracy Score:\n",
      "54.778704%\n",
      "\n",
      "Model nc Train Accuracy Score:\n",
      "53.918064%\n",
      "Model nc Validate Accuracy Score:\n",
      "54.393842%\n"
     ]
    }
   ],
   "source": [
    "X_train0 = train.drop(columns=['quality_bin', 'quality'])\n",
    "y_train0 = train['quality_bin']\n",
    "\n",
    "X_validate0 = validate.drop(columns=['quality_bin', 'quality'])\n",
    "y_validate0 = validate['quality_bin']\n",
    "\n",
    "X_test0 = test.drop(columns=['quality_bin', 'quality'])\n",
    "y_test0 = test['quality_bin']\n",
    "    \n",
    "lr0 = LogisticRegression(random_state=117)\n",
    "lr0.fit(X_train0, y_train0)\n",
    "lr_tr_acc0 = lr0.score(X_train0,y_train0)\n",
    "\n",
    "lr0.fit(X_validate0, y_validate0)\n",
    "lr_val_acc0 = lr0.score(X_validate0, y_validate0)\n",
    "\n",
    "X_train2 = train.drop(columns=['quality_bin', 'alcohol', 'citric_acid', 'quality'])\n",
    "y_train2 = train['quality_bin']\n",
    "\n",
    "X_validate2 = validate.drop(columns=['quality_bin', 'alcohol', 'citric_acid', 'quality'])\n",
    "y_validate2 = validate['quality_bin']\n",
    "\n",
    "X_test2 = test.drop(columns=['quality_bin', 'alcohol', 'citric_acid', 'quality'])\n",
    "y_test2 = test['quality_bin']\n",
    "\n",
    "\n",
    "lr2 = LogisticRegression()\n",
    "\n",
    "lr2.fit(X_train2, y_train2)\n",
    "\n",
    "lr_tr_acc2 = lr2.score(X_train2,y_train2)\n",
    "\n",
    "\n",
    "lr2.fit(X_validate2, y_validate2)\n",
    "\n",
    "lr_val_acc2 = lr2.score(X_validate2, y_validate2)\n",
    "\n",
    "\n",
    "\n",
    "X_train3 = train.drop(columns=['quality_bin', 'alcohol', 'citric_acid', 'free_sulfur_dioxide', 'cluster', 'total_sulfur_dioxide', 'quality'])\n",
    "y_train3 = train['quality_bin']\n",
    "\n",
    "X_validate3 = validate.drop(columns=['quality_bin', 'alcohol', 'citric_acid', 'free_sulfur_dioxide', 'cluster', 'total_sulfur_dioxide', 'quality'])\n",
    "y_validate3 = validate['quality_bin']\n",
    "\n",
    "X_test3 = test.drop(columns=['quality_bin', 'alcohol', 'citric_acid', 'free_sulfur_dioxide', 'cluster', 'total_sulfur_dioxide', 'quality'])\n",
    "y_test3 = test['quality_bin']\n",
    "\n",
    "\n",
    "lr3 = LogisticRegression()\n",
    "\n",
    "lr3.fit(X_train3, y_train3)\n",
    "\n",
    "lr_tr_acc3 = lr3.score(X_train3,y_train3)\n",
    "\n",
    "\n",
    "lr3.fit(X_validate3, y_validate3)\n",
    "\n",
    "lr_val_acc3 = lr3.score(X_validate3, y_validate3)\n",
    "\n",
    "\n",
    "\n",
    "X_train4 = train.drop(columns=['quality_bin', 'alcohol', 'citric_acid', 'free_sulfur_dioxide', 'cluster', 'total_sulfur_dioxide', 'sulphates', 'pH',\n",
    "                                   'residual_sugar', 'quality'])\n",
    "y_train4 = train['quality_bin']\n",
    "\n",
    "X_validate4 = validate.drop(columns=['quality_bin', 'alcohol', 'citric_acid', 'free_sulfur_dioxide', 'cluster', 'total_sulfur_dioxide', 'sulphates', 'pH',\n",
    "                                         'residual_sugar', 'quality'])\n",
    "y_validate4 = validate['quality_bin']\n",
    "\n",
    "X_test4 = test.drop(columns=['quality_bin', 'alcohol', 'citric_acid', 'free_sulfur_dioxide', 'cluster', 'total_sulfur_dioxide', 'sulphates', 'pH',\n",
    "                                 'residual_sugar', 'quality'])\n",
    "y_test4 = test['quality_bin']\n",
    "\n",
    "\n",
    "lr4 = LogisticRegression()\n",
    "\n",
    "lr4.fit(X_train4, y_train4)\n",
    "\n",
    "lr_tr_acc4 = lr4.score(X_train4,y_train4)\n",
    "\n",
    "\n",
    "lr4.fit(X_validate4, y_validate4)\n",
    "\n",
    "lr_val_acc4 = lr4.score(X_validate4, y_validate4)\n",
    "\n",
    "\n",
    "\n",
    "X_train5 = train.drop(columns=['quality_bin', 'alcohol', 'citric_acid', 'free_sulfur_dioxide', 'cluster', 'total_sulfur_dioxide', 'sulphates', 'pH',\n",
    "                                   'residual_sugar', 'fixed_acidity', 'chlorides', 'volatile_acidity', 'quality'])\n",
    "y_train5 = train['quality_bin']\n",
    "\n",
    "X_validate5 = validate.drop(columns=['quality_bin', 'alcohol', 'citric_acid', 'free_sulfur_dioxide', 'cluster', 'total_sulfur_dioxide', 'sulphates', 'pH',\n",
    "                                   'residual_sugar', 'fixed_acidity', 'chlorides', 'volatile_acidity', 'quality'])\n",
    "y_validate5 = validate['quality_bin']\n",
    "\n",
    "X_test5 = test.drop(columns=['quality_bin', 'alcohol', 'citric_acid', 'free_sulfur_dioxide', 'cluster', 'total_sulfur_dioxide', 'sulphates', 'pH',\n",
    "                                   'residual_sugar', 'fixed_acidity', 'chlorides', 'volatile_acidity', 'quality'])\n",
    "y_test5 = test['quality_bin']\n",
    "\n",
    "\n",
    "lr5 = LogisticRegression()\n",
    "\n",
    "lr5.fit(X_train5, y_train5)\n",
    "\n",
    "lr_tr_acc5 = lr5.score(X_train5,y_train5)\n",
    "\n",
    "\n",
    "lr5.fit(X_validate5, y_validate5)\n",
    "\n",
    "lr_val_acc5 = lr5.score(X_validate5, y_validate5)\n",
    "\n",
    "\n",
    "\n",
    "\n",
    "\n",
    "X_trainχ = train.drop(columns=['quality_bin', 'total_sulfur_dioxide', 'sulphates', 'pH',\n",
    "                                   'residual_sugar', 'fixed_acidity', 'chlorides', 'volatile_acidity', 'quality', 'wine_color'])\n",
    "y_trainχ = train['quality_bin']\n",
    "\n",
    "X_validateχ = validate.drop(columns=['quality_bin', 'total_sulfur_dioxide', 'sulphates', 'pH',\n",
    "                                   'residual_sugar', 'fixed_acidity', 'chlorides', 'volatile_acidity', 'quality', 'wine_color'])\n",
    "y_validateχ = validate['quality_bin']\n",
    "\n",
    "X_testχ = test.drop(columns=['quality_bin', 'total_sulfur_dioxide', 'sulphates', 'pH',\n",
    "                                   'residual_sugar', 'fixed_acidity', 'chlorides', 'volatile_acidity', 'quality', 'wine_color'])\n",
    "y_testχ = test['quality_bin']\n",
    "\n",
    "\n",
    "lrχ = LogisticRegression()\n",
    "\n",
    "lrχ.fit(X_trainχ, y_trainχ)\n",
    "\n",
    "lr_tr_accχ = lrχ.score(X_trainχ,y_trainχ)\n",
    "\n",
    "\n",
    "lrχ.fit(X_validateχ, y_validateχ)\n",
    "\n",
    "lr_val_accχ = lrχ.score(X_validateχ, y_validateχ)\n",
    "\n",
    "\n",
    "\n",
    "X_trainχx = train.drop(columns=['fixed_acidity', 'volatile_acidity', 'citric_acid',\n",
    "       'chlorides', 'free_sulfur_dioxide', 'total_sulfur_dioxide',\n",
    "       'pH', 'sulphates', 'quality', 'wine_color', 'quality_bin'])\n",
    "\n",
    "y_trainχx = train['quality_bin']\n",
    "\n",
    "X_validateχx = validate.drop(columns=['fixed_acidity', 'volatile_acidity', 'citric_acid',\n",
    "       'chlorides', 'free_sulfur_dioxide', 'total_sulfur_dioxide',\n",
    "       'pH', 'sulphates', 'quality', 'wine_color', 'quality_bin'])\n",
    "\n",
    "y_validateχx = validate['quality_bin']\n",
    "\n",
    "X_testχx = test.drop(columns=['fixed_acidity', 'volatile_acidity', 'citric_acid',\n",
    "       'chlorides', 'free_sulfur_dioxide', 'total_sulfur_dioxide',\n",
    "       'pH', 'sulphates', 'quality', 'wine_color', 'quality_bin'])\n",
    "\n",
    "y_testχx = test['quality_bin']\n",
    "\n",
    "\n",
    "lrχ = LogisticRegression()\n",
    "\n",
    "lrχ.fit(X_trainχx, y_trainχx)\n",
    "\n",
    "lr_tr_accχx = lrχ.score(X_trainχx,y_trainχx)\n",
    "\n",
    "\n",
    "lrχ.fit(X_validateχx, y_validateχx)\n",
    "\n",
    "lr_val_accχx = lrχ.score(X_validateχx, y_validateχx)\n",
    "\n",
    "\n",
    "\n",
    "X_trainnc = train.drop(columns=['fixed_acidity', 'volatile_acidity', 'citric_acid',\n",
    "       'chlorides', 'free_sulfur_dioxide', 'total_sulfur_dioxide',\n",
    "       'pH', 'sulphates', 'quality', 'wine_color', 'quality_bin', 'cluster'])\n",
    "\n",
    "y_trainnc = train['quality_bin']\n",
    "\n",
    "X_validatenc = validate.drop(columns=['fixed_acidity', 'volatile_acidity', 'citric_acid',\n",
    "       'chlorides', 'free_sulfur_dioxide', 'total_sulfur_dioxide',\n",
    "       'pH', 'sulphates', 'quality', 'wine_color', 'quality_bin', 'cluster'])\n",
    "\n",
    "y_validatenc = validate['quality_bin']\n",
    "\n",
    "X_testnc = test.drop(columns=['fixed_acidity', 'volatile_acidity', 'citric_acid',\n",
    "       'chlorides', 'free_sulfur_dioxide', 'total_sulfur_dioxide',\n",
    "       'pH', 'sulphates', 'quality', 'wine_color', 'quality_bin', 'cluster'])\n",
    "\n",
    "y_testnc = test['quality_bin']\n",
    "\n",
    "lrχ = LogisticRegression()\n",
    "\n",
    "lrχ.fit(X_trainnc, y_trainnc)\n",
    "\n",
    "lr_tr_accnc = lrχ.score(X_trainnc,y_trainnc)\n",
    "\n",
    "\n",
    "lrχ.fit(X_validatenc, y_validatenc)\n",
    "\n",
    "lr_val_accnc = lrχ.score(X_validatenc, y_validatenc)\n",
    "\n",
    "print(f'Logistic Regression Model Accuracy Scores:\\n\\n\\\n",
    "Baseline Accuracy Score:\\n{baseline_accuracy:2%}\\n\\n\\\n",
    "Model χx Train Accuracy Score:\\n{lr_tr_accχx:2%}\\n\\\n",
    "Model χx Validate Accuracy Score:\\n{lr_val_accχx:2%}\\n\\n\\\n",
    "Model nc Train Accuracy Score:\\n{lr_tr_accnc:2%}\\n\\\n",
    "Model nc Validate Accuracy Score:\\n{lr_val_accnc:2%}')"
   ]
  }
 ],
 "metadata": {
  "kernelspec": {
   "display_name": "Python 3 (ipykernel)",
   "language": "python",
   "name": "python3"
  },
  "language_info": {
   "codemirror_mode": {
    "name": "ipython",
    "version": 3
   },
   "file_extension": ".py",
   "mimetype": "text/x-python",
   "name": "python",
   "nbconvert_exporter": "python",
   "pygments_lexer": "ipython3",
   "version": "3.10.12"
  }
 },
 "nbformat": 4,
 "nbformat_minor": 5
}
